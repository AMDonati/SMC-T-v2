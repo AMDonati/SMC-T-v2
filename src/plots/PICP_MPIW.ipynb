{
 "cells": [
  {
   "cell_type": "code",
   "execution_count": 2,
   "metadata": {
    "collapsed": true
   },
   "outputs": [],
   "source": [
    "import numpy as np\n",
    "import matplotlib.pyplot as plt\n",
    "import os\n",
    "#import matplotlib.scale as scale"
   ]
  },
  {
   "cell_type": "markdown",
   "metadata": {},
   "source": [
    "### Covid"
   ]
  },
  {
   "cell_type": "code",
   "execution_count": 3,
   "metadata": {
    "collapsed": false
   },
   "outputs": [],
   "source": [
    "covid_lstm_PICP = np.load(\"../../output/exp_covid/lstm/lstm_d32_p0.5/1/inference_results/PICP_per_timestep.npy\")\n",
    "covid_smc_PICP = np.load(\"../../output/exp_covid/smc_t/smc_t_d32_p10/1/inference_results/PICP_per_timestep.npy\")\n",
    "covid_transf_PICP = np.load(\"../../output/exp_covid/baseline_t/baseline_t_d32_p0.5/1/inference_results/PICP_per_timestep.npy\")\n",
    "covid_bayes_PICP = np.load(\"../../output/exp_covid/covid_bayes/inference_results/PICP_per_timestep.npy\")"
   ]
  },
  {
   "cell_type": "code",
   "execution_count": 4,
   "metadata": {
    "collapsed": false
   },
   "outputs": [
    {
     "data": {
      "text/plain": [
       "(20,)"
      ]
     },
     "execution_count": 4,
     "metadata": {},
     "output_type": "execute_result"
    }
   ],
   "source": [
    "covid_smc_PICP.shape"
   ]
  },
  {
   "cell_type": "markdown",
   "metadata": {},
   "source": [
    "### Weather"
   ]
  },
  {
   "cell_type": "code",
   "execution_count": 6,
   "metadata": {
    "collapsed": true
   },
   "outputs": [],
   "source": [
    "#weather_transf_PICP = np.load(\"../../output/exp_weather/baseline_t/baseline_t_d32_p0.5/1/inference_results/PICP_per_timestep_mean.npy\")\n",
    "#weather_lstm_PICP = np.load(\"../../output/exp_weather/lstm/lstm_d32_p0.5/1/inference_results/PICP_per_timestep_mean.npy\")\n",
    "#weather_smc_PICP = np.load(\"../../output/exp_weather/smc_t_d32_p10/1/inference_results/PICP_per_timestep_mean.npy\")\n",
    "#weather_bayes_PICP = np.load(\"../../output/exp_weather/bayesian_lstm_d32/1/inference_results/PICP_per_timestep_mean.npy\")"
   ]
  },
  {
   "cell_type": "code",
   "execution_count": 5,
   "metadata": {
    "collapsed": true
   },
   "outputs": [],
   "source": [
    "weather_transf_PICP = np.load(\"../../output/exp_weather/baseline_t_d32_p0.5/1/inference_results/PICP_per_timestep_multistep.npy\")\n",
    "weather_lstm_PICP = np.load(\"../../output/exp_weather/lstm_d32_p0.5/1/inference_results/PICP_per_timestep_multistep.npy\")\n",
    "weather_bayes_PICP = np.load(\"../../output/exp_weather/bayesian_lstm_d32/1/inference_results/PICP_per_timestep_mean.npy\")\n",
    "weather_smc_PICP = np.load(\"../../output/exp_weather/smc_t_l1_h1_d32_10p/1/inference_results/PICP_per_timestep_mean.npy\")"
   ]
  },
  {
   "cell_type": "markdown",
   "metadata": {},
   "source": [
    "### air quality"
   ]
  },
  {
   "cell_type": "code",
   "execution_count": 6,
   "metadata": {
    "collapsed": true
   },
   "outputs": [],
   "source": [
    "aq_transf_PICP = np.load('../../output/exp_airquality/baseline_t_d32_p0.5/1/inference_results/PICP_per_timestep_mean.npy')\n",
    "aq_lstm_PICP = np.load('../../output/exp_airquality/lstm_d32_p0.5/1/inference_results/PICP_per_timestep_mean.npy')\n",
    "aq_smc_PICP = np.load(\"../../output/exp_airquality/smc_T_d32_10p/1/inference_results/PICP_per_timestep_mean.npy\")\n",
    "aq_bayes_PICP = np.load(\"../../output/exp_airquality/bayesian_lstm_d32/1/inference_results/PICP_per_timestep_mean.npy\")"
   ]
  },
  {
   "cell_type": "markdown",
   "metadata": {},
   "source": [
    "### energy"
   ]
  },
  {
   "cell_type": "code",
   "execution_count": 7,
   "metadata": {
    "collapsed": true
   },
   "outputs": [],
   "source": [
    "energy_transf_PICP = np.load(\"../../output/exp_energy/baseline_t_d32_p0.5/1/inference_results/PICP_per_timestep_mean.npy\")\n",
    "energy_lstm_PICP = np.load(\"../../output/exp_energy/lstm_d32_p0.1/1/inference_results/PICP_per_timestep_mean.npy\")\n",
    "energy_smc_PICP = np.load(\"../../output/exp_energy/smc_t_d32_p10/1/inference_results/PICP_per_timestep_mean.npy\")\n",
    "energy_bayes_PICP = np.load(\"../../output/exp_energy/bayesian_lstm_d32/1/inference_results/PICP_per_timestep_mean.npy\")"
   ]
  },
  {
   "cell_type": "code",
   "execution_count": 9,
   "metadata": {
    "collapsed": false
   },
   "outputs": [],
   "source": [
    "colors = ['salmon', 'limegreen', 'seagreen', 'darkcyan']\n",
    "#fig, axs = plt.subplots(2,2,figsize=(15, 7))\n",
    "fig, axs = plt.subplots(2, 2, figsize=(12, 10),\n",
    "                        gridspec_kw={'hspace': 0.15, 'wspace': 0})\n",
    "(ax1, ax2), (ax3, ax4) = axs\n",
    "x = np.linspace(1,20,20)\n",
    "x_w = np.linspace(1,12,12)\n",
    "x_6 = np.linspace(1,6,6)\n",
    "ax1.plot(x, covid_smc_PICP, label='SMC Transformer', color=colors[0], marker='X', linestyle='dotted')\n",
    "ax1.plot(x, covid_lstm_PICP, color=colors[1], label='MC-Dropout LSTM', marker='X', linestyle='dotted')\n",
    "ax1.plot(x, covid_transf_PICP, color=colors[2], label='MC-Dropout Transformer', marker='X', linestyle='dotted')\n",
    "ax1.plot(x, covid_bayes_PICP, color=colors[3], label='Bayesian LSTM', marker='X', linestyle='dotted')\n",
    "ax2.plot(x_w, weather_smc_PICP, label='Weather - SMC Transformer', linestyle='dotted', color=colors[0], marker='X')\n",
    "ax2.plot(x_w, weather_lstm_PICP, color=colors[1], label='Weather - MC-Dropout Lstm', linestyle='dotted', marker='X')\n",
    "ax2.plot(x_w, weather_transf_PICP, color=colors[2], label='Weather - MC-Dropout Transformer', linestyle='dotted', marker='X')\n",
    "ax2.plot(x_w, weather_bayes_PICP, color=colors[3], label='Weather - Bayesian LSTM', linestyle='dotted', marker='X')\n",
    "ax3.plot(x_6, aq_smc_PICP, label='Air quality - SMC Transformer', marker='X', color=colors[0], linestyle='dotted')\n",
    "ax3.plot(x_6, aq_lstm_PICP, color=colors[1], label='Air quality - MC-Dropout Lstm', marker='X', linestyle='dotted')\n",
    "ax3.plot(x_6, aq_transf_PICP, color=colors[2], label='Air quality - MC-Dropout Transformer', marker='X', linestyle='dotted')\n",
    "ax3.plot(x_6, aq_bayes_PICP, color=colors[3], label='Air quality - Bayesian LSTM', marker='X', linestyle='dotted')\n",
    "ax4.plot(x_6, energy_smc_PICP, label='Energy - SMC Transformer', marker='X', color=colors[0], linestyle='dotted')\n",
    "ax4.plot(x_6, energy_lstm_PICP, color=colors[1], label='Energy - MC-Dropout Lstm', marker='X', linestyle='dotted')\n",
    "ax4.plot(x_6, energy_transf_PICP, color=colors[2], label='Energy - MC-Dropout Transformer', marker='X', linestyle='dotted')\n",
    "ax4.plot(x_6, energy_bayes_PICP, color=colors[3], label='Energy - Bayesian LSTM', marker='X', linestyle='dotted')\n",
    "ax1.hlines(0.95,1,20,color=\"grey\", label=\"0.95% line\", alpha=0.7)\n",
    "ax2.hlines(0.95,1,12,color=\"grey\", label=\"0.95% line\", alpha=0.7)\n",
    "ax3.hlines(0.95,1,6,color=\"grey\", label=\"0.95% line\", alpha=0.7)\n",
    "ax4.hlines(0.95,1,6,color=\"grey\", label=\"0.95% line\", alpha=0.7)\n",
    "ax1.set_title(r\"COVID - $\\tau_h=40$, $\\tau_F=20$\", fontsize=14)\n",
    "ax2.set_title(r\"Weather - $\\tau_h=12$, $\\tau_F=12$\", fontsize=14)\n",
    "ax3.set_title(r\"Air quality - $\\tau_h=6$, $\\tau_F=6$\", fontsize=14)\n",
    "ax4.set_title(r\"Energy - $\\tau_h=6$, $\\tau_F=6$\", fontsize=14)\n",
    "ax1.set_ylabel('PICP per timestep', fontsize=14)\n",
    "ax3.set_ylabel('PICP per timestep', fontsize=14)\n",
    "ax1.grid('on', alpha=0.5)\n",
    "ax2.grid('on', alpha=0.5)\n",
    "ax3.grid('on', alpha=0.5)\n",
    "ax4.grid('on', alpha=0.5)\n",
    "ax2.yaxis.tick_right()\n",
    "ax4.yaxis.tick_right()\n",
    "ax1.tick_params(labelsize=14)\n",
    "ax3.tick_params(labelsize=14)\n",
    "ax2.tick_params(labelsize=14)\n",
    "ax4.tick_params(labelsize=14)\n",
    "ax1.legend(markerscale=1, fontsize=14, loc='upper right', bbox_to_anchor=(0.9,0.6), \n",
    "           facecolor='whitesmoke', framealpha=0.7)\n",
    "#plt.show()\n",
    "plt.savefig(os.path.join(\"../../output/plots\", \"PICP_per_timestep_4datasets.pdf\"), bbox_inches=\"tight\")"
   ]
  },
  {
   "cell_type": "code",
   "execution_count": 15,
   "metadata": {
    "collapsed": true
   },
   "outputs": [],
   "source": [
    "def plot_PICP_multistep_unistep():\n",
    "    weather_smc = [0.99, 0.92]\n",
    "    weather_lstm = [0.78, 0.75]\n",
    "    weather_transf = [0.89, 0.59]\n",
    "    weather_bayes = [0.25, 0.27]\n",
    "    stock_smc = [0.99, 0.98]\n",
    "    stock_transf = [0.95, 0.83]\n",
    "    stock_lstm = [0.97, 0.87]\n",
    "    stock_bayes = [0.85, 0.34]\n",
    "    aq_smc = [0.97, 0.97]\n",
    "    aq_bayes = [0.77, 0.49]\n",
    "    aq_transf = [0.96, 0.77]\n",
    "    aq_lstm = [0.86, 0.70]\n",
    "    energy_transf = [0.97, 0.94]\n",
    "    energy_lstm = [0.99, 0.96]\n",
    "    energy_bayes = [0.91, 0.93]\n",
    "    energy_smc = [0.99, 0.97]\n",
    "    covid_smc = [0.997, 0.91]\n",
    "    covid_lstm = [0.88, 0.80]\n",
    "    covid_transf = [0.97, 0.84]\n",
    "    covid_bayes = [0.27, 0.15]\n",
    "    fig, ax = plt.subplots(figsize=(7, 7))\n",
    "    colors = ['salmon', 'limegreen', 'seagreen', 'steelblue']\n",
    "    x = [1,2,3,4,5]\n",
    "    shift=0.1\n",
    "    marker_size = 100\n",
    "    ax.scatter(3,weather_smc[0], marker='o', color=colors[0], label='SMC Transformer', s=marker_size, alpha=0.7)\n",
    "    ax.scatter(3,weather_smc[1], marker='x', color=colors[0], s=marker_size)\n",
    "    ax.scatter(3+shift,weather_lstm[0], marker='o', color=colors[1], label='MC Dropout LSTM', s=marker_size, alpha=0.7)\n",
    "    ax.scatter(3+shift,weather_lstm[1], marker='x', color=colors[1], s=marker_size) \n",
    "    ax.scatter(3+2*shift,weather_transf[0], marker='o', color=colors[2], label='MC Dropout Transformer', s=marker_size, alpha=0.7)\n",
    "    ax.scatter(3+2*shift,weather_transf[1], marker='x', color=colors[2], s=marker_size)\n",
    "    ax.scatter(3+3*shift,weather_bayes[0], marker='o', color=colors[3], label='Bayesian LSTM', s=marker_size, alpha=0.7)\n",
    "    ax.scatter(3+3*shift,weather_bayes[1], marker='x', color=colors[3], s=marker_size)\n",
    "    \n",
    "    ax.scatter(5,stock_smc[0], marker='o', color=colors[0], s=marker_size)\n",
    "    ax.scatter(5,stock_smc[1], marker='x', color=colors[0], s=marker_size)\n",
    "    ax.scatter(5+shift,stock_lstm[0], marker='o', color=colors[1], s=marker_size)\n",
    "    ax.scatter(5+shift,stock_lstm[1], marker='x', color=colors[1], s=marker_size) \n",
    "    ax.scatter(5+2*shift,stock_transf[0], marker='o', color=colors[2], s=marker_size)\n",
    "    ax.scatter(5+2*shift,stock_transf[1], marker='x', color=colors[2], s=marker_size)\n",
    "    ax.scatter(5+3*shift,stock_bayes[0], marker='o', color=colors[3], s=marker_size)\n",
    "    ax.scatter(5+ 3*shift,stock_bayes[1], marker='x', color=colors[3], s=marker_size)\n",
    "    \n",
    "    ax.scatter(2,aq_smc[0], marker='o', color=colors[0], s=marker_size)\n",
    "    ax.scatter(2,aq_smc[1], marker='x', color=colors[0], s=marker_size)\n",
    "    ax.scatter(2 + shift,aq_lstm[0], marker='o', color=colors[1], s=marker_size)\n",
    "    ax.scatter(2 + shift,aq_lstm[1], marker='x', color=colors[1], s=marker_size) \n",
    "    ax.scatter(2 + 2*shift, aq_transf[0], marker='o', color=colors[2], s=marker_size)\n",
    "    ax.scatter(2 + 2* shift,aq_transf[1], marker='x', color=colors[2], s=marker_size)\n",
    "    ax.scatter(2 + 3*shift,aq_bayes[0], marker='o', color=colors[3], s=marker_size)\n",
    "    ax.scatter(2+ 3*shift,aq_bayes[1], marker='x', color=colors[3], s=marker_size)\n",
    "    \n",
    "    ax.scatter(4,energy_smc[0], marker='o', color=colors[0], s=marker_size, alpha=0.7)\n",
    "    ax.scatter(4,energy_smc[1], marker='x', color=colors[0], s=marker_size)\n",
    "    ax.scatter(4+ shift,energy_lstm[0], marker='o', color=colors[1], s=marker_size, alpha=0.7)\n",
    "    ax.scatter(4+shift,energy_lstm[1], marker='x', color=colors[1], s=marker_size) \n",
    "    ax.scatter(4+2*shift ,energy_transf[0], marker='o', color=colors[2], s=marker_size, alpha=0.7)\n",
    "    ax.scatter(4+2*shift,energy_transf[1], marker='x', color=colors[2], s=marker_size)\n",
    "    ax.scatter(4+3*shift ,energy_bayes[0], marker='o', color=colors[3], s=marker_size, alpha=0.7)\n",
    "    ax.scatter(4+3*shift,energy_bayes[1], marker='x', color=colors[3], s=marker_size)\n",
    "    \n",
    "    ax.scatter(1,covid_smc[0], marker='o', color=colors[0], s=marker_size)\n",
    "    ax.scatter(1, covid_smc[1], marker='x', color=colors[0], s=marker_size)\n",
    "    ax.scatter(1+ shift,covid_lstm[0], marker='o', color=colors[1], s=marker_size)\n",
    "    ax.scatter(1+shift,covid_lstm[1], marker='x', color=colors[1], s=marker_size) \n",
    "    ax.scatter(1+2*shift ,covid_transf[0], marker='o', color=colors[2], s=marker_size)\n",
    "    ax.scatter(1+2*shift,covid_transf[1], marker='x', color=colors[2], s=marker_size)\n",
    "    ax.scatter(1+3*shift ,covid_bayes[0], marker='o', color=colors[3], s=marker_size)\n",
    "    ax.scatter(1+3*shift,covid_bayes[1], marker='x', color=colors[3], s=marker_size)\n",
    "    \n",
    "    ax.hlines(0.95,1,5,color=\"grey\", label=\"0.95% line\", alpha=0.7)\n",
    "    \n",
    "    ax.set_xticks([1,2,3,4,5])\n",
    "    ax.set_xticklabels(['covid', 'air quality', 'weather', 'energy', 'stock'])\n",
    "    ax.tick_params(axis='x', labelsize=14)\n",
    "    ax.tick_params(axis='y', labelsize=14, labelright=True)\n",
    "    \n",
    "    # Function x**2\n",
    "    def forward(x):\n",
    "        return x**2\n",
    "\n",
    "\n",
    "    def inverse(x):\n",
    "        return x**(1/2)\n",
    "    #scale.FuncScale(axis=1, functions=(forward,inverse))\n",
    "    #ax.set_yscale('functions', functions=(forward, inverse))\n",
    "    #ax.set_yscale('linear')\n",
    "    #ax.set_ylim(ymin=0.1, ymax=1.5)\n",
    "    #ax.set_title('function: $x^{1/2}$')\n",
    "    #ax.yaxis.set_major_locator(FixedLocator(np.arange(0, 1, 0.2)**(1/2)))\n",
    "    #ax.yaxis.set_major_locator(FixedLocator(np.arange(0, 1, 0.2)))\n",
    "    \n",
    "    ax.grid('on', alpha=0.5)\n",
    "    ax.legend(fontsize=14,facecolor='whitesmoke', framealpha=0.4) #frameon=False\n",
    "    plt.show()"
   ]
  },
  {
   "cell_type": "code",
   "execution_count": 16,
   "metadata": {
    "collapsed": false
   },
   "outputs": [
    {
     "data": {
      "image/png": "[encoded data removed]",
      "text/plain": [
       "<Figure size 504x504 with 1 Axes>"
      ]
     },
     "metadata": {},
     "output_type": "display_data"
    }
   ],
   "source": [
    "plot_PICP_multistep_unistep()"
   ]
  },
  {
   "cell_type": "code",
   "execution_count": null,
   "metadata": {
    "collapsed": true
   },
   "outputs": [],
   "source": [
    "fig, ax = plt.subplots(figsize=(7, 7))\n",
    "ax.set_yscale()"
   ]
  },
  {
   "cell_type": "markdown",
   "metadata": {},
   "source": [
    "### weather examples"
   ]
  },
  {
   "cell_type": "code",
   "execution_count": null,
   "metadata": {
    "collapsed": true
   },
   "outputs": [],
   "source": [
    "smc_distrib = np.load(\"../../output/exp_weather/smc_t_d32_p10/1/inference_results/distrib_multistep.npy\")\n",
    "lstm_distrib = np.load(\"../../output/exp_weather_lstm/lstm_d32_p0.5/1/inference_results/distrib_multistep.npy\")\n",
    "smc_distrib_unistep = np.load(\"../../output/exp_weather/smc_t_d32_p10/1/inference_results/distrib_unistep.npy\")\n",
    "lstm_distrib_unistep = np.load(\"../../output/exp_weather_lstm/lstm_d32_p0.5/1/inference_results/distrib_unistep.npy\")\n"
   ]
  },
  {
   "cell_type": "code",
   "execution_count": null,
   "metadata": {
    "collapsed": true
   },
   "outputs": [],
   "source": [
    "smc_distrib.shape"
   ]
  },
  {
   "cell_type": "code",
   "execution_count": null,
   "metadata": {
    "collapsed": true
   },
   "outputs": [],
   "source": [
    "lstm_distrib.shape"
   ]
  },
  {
   "cell_type": "code",
   "execution_count": null,
   "metadata": {
    "collapsed": true
   },
   "outputs": [],
   "source": [
    "true_data = np.load(\"../../data/weather_vm3/test/weather.npy\")\n",
    "true_data = true_data[:3000,:-1, 1]\n",
    "true_data_12 = true_data[:,12:]"
   ]
  },
  {
   "cell_type": "code",
   "execution_count": null,
   "metadata": {
    "collapsed": true
   },
   "outputs": [],
   "source": [
    "true_data_12.shape"
   ]
  },
  {
   "cell_type": "code",
   "execution_count": null,
   "metadata": {
    "collapsed": true
   },
   "outputs": [],
   "source": [
    "smc_distrib_T = np.squeeze(smc_distrib[:,:,:,1])\n",
    "lstm_distrib_T = np.squeeze(lstm_distrib[:,:,:,1])\n",
    "smc_distrib_T_uni = np.squeeze(smc_distrib_unistep[:,:,:,1])\n",
    "lstm_distrib_T_uni = np.squeeze(lstm_distrib_unistep[:,:,:,1])"
   ]
  },
  {
   "cell_type": "code",
   "execution_count": null,
   "metadata": {
    "collapsed": true
   },
   "outputs": [],
   "source": [
    "print(smc_distrib_T_uni.shape)\n",
    "print(lstm_distrib_T_uni.shape)"
   ]
  },
  {
   "cell_type": "code",
   "execution_count": null,
   "metadata": {
    "collapsed": true
   },
   "outputs": [],
   "source": [
    "distribs = [smc_distrib_T, lstm_distrib_T]\n",
    "distribs_uni = [smc_distrib_T_uni, lstm_distrib_T_uni]"
   ]
  },
  {
   "cell_type": "code",
   "execution_count": null,
   "metadata": {
    "collapsed": true
   },
   "outputs": [],
   "source": [
    "def compute_predictive_interval(predictive_distribution, index, std_multiplier=1.96):\n",
    "    mean_distrib = np.mean(predictive_distribution, axis=1) # shape (B,S)\n",
    "    std_distrib = np.std(predictive_distribution, axis=1)\n",
    "    lower_bounds = mean_distrib - std_multiplier * std_distrib  # shape(B,S)\n",
    "    upper_bounds = mean_distrib + std_multiplier * std_distrib\n",
    "    mean = mean_distrib[index]\n",
    "    lower_bound = lower_bounds[index]\n",
    "    upper_bound = upper_bounds[index]\n",
    "    return mean, lower_bound, upper_bound"
   ]
  },
  {
   "cell_type": "code",
   "execution_count": null,
   "metadata": {
    "collapsed": true
   },
   "outputs": [],
   "source": [
    "colors = ['salmon', 'limegreen']\n",
    "def plot_forecast_with_bounds(distribs, true_data, index):\n",
    "    fig, ax = plt.subplots(figsize=(6,6))\n",
    "    x = np.linspace(1,distribs[0].shape[2],distribs[0].shape[2])\n",
    "    #index = np.random.randint(distribs[0].shape[0])\n",
    "    print(index)\n",
    "    ground_truth = true_data[index]\n",
    "    ax.plot(x, ground_truth, color='grey')\n",
    "    for i, distrib in enumerate(distribs):\n",
    "        mean, lower_bound, upper_bound = compute_predictive_interval(distrib, index)\n",
    "        ax.plot(x, mean, color=colors[i], lw=2, label='SMC-T')\n",
    "        ax.fill_between(x, lower_bound, upper_bound, alpha=0.3, facecolor=colors[i], edgecolor=colors[i])\n",
    "    ax.grid('on', alpha=0.5)\n",
    "    plt.show()\n",
    "    plt.close()"
   ]
  },
  {
   "cell_type": "code",
   "execution_count": null,
   "metadata": {
    "collapsed": true
   },
   "outputs": [],
   "source": [
    "for _ in range(5):\n",
    "    index = np.random.randint(distribs_uni[0].shape[0])\n",
    "    plot_forecast_with_bounds(distribs_uni, true_data, index)"
   ]
  },
  {
   "cell_type": "code",
   "execution_count": null,
   "metadata": {
    "collapsed": true
   },
   "outputs": [],
   "source": [
    "for _ in range(8):\n",
    "    index = np.random.randint(distribs[0].shape[0])\n",
    "    plot_forecast_with_bounds(distribs, true_data_12, index)"
   ]
  },
  {
   "cell_type": "code",
   "execution_count": null,
   "metadata": {
    "collapsed": true
   },
   "outputs": [],
   "source": []
  }
 ],
 "metadata": {
  "kernelspec": {
   "display_name": "Python 3",
   "language": "python",
   "name": "python3"
  },
  "language_info": {
   "codemirror_mode": {
    "name": "ipython",
    "version": 3
   },
   "file_extension": ".py",
   "mimetype": "text/x-python",
   "name": "python",
   "nbconvert_exporter": "python",
   "pygments_lexer": "ipython3",
   "version": "3.6.0"
  }
 },
 "nbformat": 4,
 "nbformat_minor": 2
}
