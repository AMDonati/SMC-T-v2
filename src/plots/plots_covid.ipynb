{
 "cells": [
  {
   "cell_type": "code",
   "execution_count": 157,
   "metadata": {},
   "outputs": [],
   "source": [
    "import numpy as np"
   ]
  },
  {
   "cell_type": "code",
   "execution_count": 158,
   "metadata": {},
   "outputs": [],
   "source": [
    "def split_covid_data(arr_path, normalize=True):\n",
    "    covid_data = np.load(arr_path)\n",
    "    covid_data = covid_data.astype(np.float32)\n",
    "    \n",
    "    if normalize: \n",
    "        data_mean = np.mean(covid_data, axis=1, keepdims=True)\n",
    "        data_std = np.std(covid_data, axis=1, keepdims=True)\n",
    "        covid_data = (covid_data - data_mean) / data_std\n",
    "        stats_train = (data_mean[:709,:], data_std[:709,:])\n",
    "        stats_val = (data_mean[709:798, :], data_std[709:798, :])\n",
    "        stats_test = (data_mean[798:, :], data_std[798:,:])\n",
    "        stats = (stats_train, stats_val, stats_test)\n",
    "    else: \n",
    "        stats = None\n",
    "    \n",
    "    train_data = covid_data[:709,:]\n",
    "    val_data = covid_data[709:798,:]\n",
    "    test_data = covid_data[798:, :]\n",
    "\n",
    "    # reshaping arrays:\n",
    "    train_data = np.reshape(train_data, newshape=(train_data.shape[0], train_data.shape[1], 1))\n",
    "    val_data = np.reshape(val_data, newshape=(val_data.shape[0], val_data.shape[1], 1))\n",
    "    test_data = np.reshape(test_data, newshape=(test_data.shape[0], test_data.shape[1], 1))\n",
    "\n",
    "    return train_data, val_data, test_data, stats"
   ]
  },
  {
   "cell_type": "code",
   "execution_count": 159,
   "metadata": {},
   "outputs": [],
   "source": [
    "def rescale_covid_data(data_sample, stats, index):\n",
    "    data_mean, data_std = stats\n",
    "    mean, std = data_mean[index], data_std[index]\n",
    "    data_sample = std * data_sample + mean\n",
    "    data_sample = data_sample.astype(np.int32)\n",
    "    return data_sample"
   ]
  },
  {
   "cell_type": "code",
   "execution_count": 160,
   "metadata": {},
   "outputs": [],
   "source": [
    "covid_path = '../../data/covid_preprocess.npy'\n",
    "train_data, val_data, test_data, stats = split_covid_data(covid_path)\n",
    "stats_train, stats_val, stats_test = stats\n",
    "train_data_unnorm, val_data_unnorm, test_data_unnorm, _ = split_covid_data(covid_path, normalize=False)"
   ]
  },
  {
   "cell_type": "code",
   "execution_count": 161,
   "metadata": {},
   "outputs": [
    {
     "name": "stdout",
     "output_type": "stream",
     "text": [
      "[0.0, 38.0, 36.0, 39.0, 31.0, 45.0, 87.0, 109.0, 159.0, 298.0, 468.0, 565.0, 675.0, 623.0, 427.0, 338.0, 309.0, 116.0, 152.0, 73.0, 0.0, 4.0, 40.0, 0.0, 0.0, 0.0, 0.0, 574.0, 1059.0, 401.0, 48.0, 3.0, 0.0, 0.0, 0.0, 0.0, 0.0, 0.0, 0.0, 0.0, 0.0, 0.0, 0.0, 0.0, 0.0, 0.0, 0.0, 0.0, 0.0, 0.0, 0.0, 0.0, 0.0, 0.0, 0.0, 0.0, 0.0, 0.0, 0.0, 0.0, 0.0]\n"
     ]
    }
   ],
   "source": [
    "#print(test_data[10])\n",
    "print(list(test_data_unnorm[80].reshape(61)))"
   ]
  },
  {
   "cell_type": "code",
   "execution_count": 162,
   "metadata": {},
   "outputs": [
    {
     "name": "stdout",
     "output_type": "stream",
     "text": [
      "20504.0\n",
      "33\n"
     ]
    }
   ],
   "source": [
    "sum_test_data = np.sum(test_data_unnorm, axis=1)\n",
    "print(np.max(sum_test_data))\n",
    "print(np.argmax(sum_test_data))"
   ]
  },
  {
   "cell_type": "code",
   "execution_count": 163,
   "metadata": {},
   "outputs": [
    {
     "data": {
      "text/plain": [
       "dtype('float32')"
      ]
     },
     "execution_count": 163,
     "metadata": {},
     "output_type": "execute_result"
    }
   ],
   "source": [
    "sum_test_data.dtype"
   ]
  },
  {
   "cell_type": "code",
   "execution_count": 164,
   "metadata": {},
   "outputs": [
    {
     "data": {
      "text/plain": [
       "array([[ 74.],\n",
       "       [ 75.],\n",
       "       [ 87.],\n",
       "       [ 87.],\n",
       "       [101.],\n",
       "       [109.],\n",
       "       [109.],\n",
       "       [136.],\n",
       "       [141.],\n",
       "       [144.],\n",
       "       [150.],\n",
       "       [150.],\n",
       "       [175.],\n",
       "       [186.],\n",
       "       [200.],\n",
       "       [208.],\n",
       "       [222.],\n",
       "       [230.],\n",
       "       [244.],\n",
       "       [258.],\n",
       "       [277.],\n",
       "       [284.],\n",
       "       [292.],\n",
       "       [292.],\n",
       "       [296.],\n",
       "       [303.],\n",
       "       [312.],\n",
       "       [331.],\n",
       "       [331.],\n",
       "       [346.],\n",
       "       [346.],\n",
       "       [360.],\n",
       "       [373.],\n",
       "       [385.],\n",
       "       [393.],\n",
       "       [400.],\n",
       "       [408.],\n",
       "       [416.],\n",
       "       [429.],\n",
       "       [438.],\n",
       "       [447.],\n",
       "       [452.],\n",
       "       [457.],\n",
       "       [459.],\n",
       "       [463.],\n",
       "       [469.],\n",
       "       [474.],\n",
       "       [480.],\n",
       "       [487.],\n",
       "       [491.],\n",
       "       [500.],\n",
       "       [506.],\n",
       "       [513.],\n",
       "       [518.],\n",
       "       [519.],\n",
       "       [521.],\n",
       "       [526.],\n",
       "       [527.],\n",
       "       [528.],\n",
       "       [534.],\n",
       "       [535.]], dtype=float32)"
      ]
     },
     "execution_count": 164,
     "metadata": {},
     "output_type": "execute_result"
    }
   ],
   "source": [
    "test_data_unnorm[33]"
   ]
  },
  {
   "cell_type": "code",
   "execution_count": 165,
   "metadata": {},
   "outputs": [],
   "source": [
    "mean_preds_path = '../../output/covid_SMC_T/covid_Recurrent_T_depth_8_bs_32_fullmodel_True_dff_16_attn_w_None__p_10_SigmaObs_0.5_sigmas_0.5/mean_preds_sample_33.npy'\n",
    "\n",
    "distrib_path = '../../output/covid_SMC_T/covid_Recurrent_T_depth_8_bs_32_fullmodel_True_dff_16_attn_w_None__p_10_SigmaObs_0.5_sigmas_0.5/distrib_future_timesteps_sample_33.npy'\n",
    "\n",
    "\n"
   ]
  },
  {
   "cell_type": "code",
   "execution_count": 166,
   "metadata": {},
   "outputs": [],
   "source": [
    "mean_preds = np.load(mean_preds_path)\n",
    "distrib_20_timsteps = np.load(distrib_path)"
   ]
  },
  {
   "cell_type": "code",
   "execution_count": 167,
   "metadata": {},
   "outputs": [
    {
     "data": {
      "text/plain": [
       "(60,)"
      ]
     },
     "execution_count": 167,
     "metadata": {},
     "output_type": "execute_result"
    }
   ],
   "source": [
    "mean_preds_rescaled = rescale_covid_data(mean_preds, stats=stats_test, index=33)\n",
    "mean_preds_rescaled.shape"
   ]
  },
  {
   "cell_type": "code",
   "execution_count": 168,
   "metadata": {},
   "outputs": [
    {
     "name": "stdout",
     "output_type": "stream",
     "text": [
      "[112, 116, 118, 127, 127, 145, 143, 159, 163, 170, 174, 179, 192, 197, 221, 220, 234, 252, 262, 285, 294, 304, 311, 310, 315, 327, 319, 338, 342, 361, 357, 372, 382, 389, 402, 397, 405, 418, 424, 435, 396, 398, 400, 400, 401, 407, 409, 414, 416, 417, 425, 428, 431, 433, 430, 433, 440, 442, 444, 444]\n"
     ]
    }
   ],
   "source": [
    "print(list(mean_preds_rescaled))"
   ]
  },
  {
   "cell_type": "code",
   "execution_count": 169,
   "metadata": {},
   "outputs": [
    {
     "name": "stdout",
     "output_type": "stream",
     "text": [
      "(60,)\n"
     ]
    }
   ],
   "source": [
    "true_labels = test_data_unnorm[10, 1:].reshape(60)\n",
    "print(true_labels.shape)"
   ]
  },
  {
   "cell_type": "code",
   "execution_count": 170,
   "metadata": {},
   "outputs": [],
   "source": [
    "import matplotlib.pyplot as plt"
   ]
  },
  {
   "cell_type": "code",
   "execution_count": 171,
   "metadata": {},
   "outputs": [],
   "source": [
    "x = np.linspace(1,60,60)"
   ]
  },
  {
   "cell_type": "code",
   "execution_count": 172,
   "metadata": {},
   "outputs": [
    {
     "data": {
      "text/plain": [
       "[<matplotlib.lines.Line2D at 0x1065a9390>]"
      ]
     },
     "execution_count": 172,
     "metadata": {},
     "output_type": "execute_result"
    },
    {
     "data": {
      "image/png": "[encoded data removed]",
      "text/plain": [
       "<Figure size 432x288 with 1 Axes>"
      ]
     },
     "metadata": {},
     "output_type": "display_data"
    }
   ],
   "source": [
    "fig, ax = plt.subplots()\n",
    "ax.plot(x, true_labels, '-')\n",
    "ax.plot(x, mean_preds_rescaled, 'o', color='tab:brown')"
   ]
  },
  {
   "cell_type": "markdown",
   "metadata": {},
   "source": [
    "### confidence intervals computation"
   ]
  },
  {
   "cell_type": "code",
   "execution_count": 173,
   "metadata": {},
   "outputs": [
    {
     "data": {
      "text/plain": [
       "array([0.5034129 , 0.68266261, 0.22075613, 0.51112068, 0.7108013 ,\n",
       "       0.50359589, 0.29989633, 0.52761734, 0.39138076, 0.52357298,\n",
       "       0.56684738, 0.61483252, 0.75766695, 1.13802743, 0.78622848,\n",
       "       0.28651083, 0.66712499, 0.74377465, 0.82460272, 0.39573628])"
      ]
     },
     "execution_count": 173,
     "metadata": {},
     "output_type": "execute_result"
    }
   ],
   "source": [
    "distrib_20_timsteps.shape\n",
    "distrib_20_timsteps[:,0]"
   ]
  },
  {
   "cell_type": "code",
   "execution_count": 174,
   "metadata": {},
   "outputs": [
    {
     "data": {
      "text/plain": [
       "array([410, 437, 368, 411, 441, 410, 380, 414, 393, 413, 419, 427, 448,\n",
       "       504, 452, 378, 434, 446, 458, 394], dtype=int32)"
      ]
     },
     "execution_count": 174,
     "metadata": {},
     "output_type": "execute_result"
    }
   ],
   "source": [
    "distrib_rescaled = rescale_covid_data(distrib_20_timsteps, stats=stats_test, index=33)\n",
    "distrib_rescaled[:,0]"
   ]
  },
  {
   "cell_type": "code",
   "execution_count": 175,
   "metadata": {},
   "outputs": [
    {
     "name": "stdout",
     "output_type": "stream",
     "text": [
      "(20,)\n"
     ]
    },
    {
     "data": {
      "text/plain": [
       "396.046"
      ]
     },
     "execution_count": 175,
     "metadata": {},
     "output_type": "execute_result"
    }
   ],
   "source": [
    "distrib_mean = np.mean(distrib_rescaled, axis=1)\n",
    "print(distrib_mean.shape)\n",
    "distrib_mean[0]"
   ]
  },
  {
   "cell_type": "code",
   "execution_count": 176,
   "metadata": {},
   "outputs": [
    {
     "data": {
      "text/plain": [
       "26.125311175180286"
      ]
     },
     "execution_count": 176,
     "metadata": {},
     "output_type": "execute_result"
    }
   ],
   "source": [
    "distrib_std = np.std(distrib_rescaled, axis=1)\n",
    "distrib_std[0]"
   ]
  },
  {
   "cell_type": "code",
   "execution_count": 177,
   "metadata": {},
   "outputs": [],
   "source": [
    "pad_distrib_mean = np.zeros(shape=60)\n",
    "pad_distrib_mean[40:] = distrib_mean\n",
    "pad_distrib_std = np.zeros(shape=60)\n",
    "pad_distrib_std[40:] = distrib_std"
   ]
  },
  {
   "cell_type": "code",
   "execution_count": 178,
   "metadata": {},
   "outputs": [
    {
     "data": {
      "text/plain": [
       "array([  0.   ,   0.   ,   0.   ,   0.   ,   0.   ,   0.   ,   0.   ,\n",
       "         0.   ,   0.   ,   0.   ,   0.   ,   0.   ,   0.   ,   0.   ,\n",
       "         0.   ,   0.   ,   0.   ,   0.   ,   0.   ,   0.   ,   0.   ,\n",
       "         0.   ,   0.   ,   0.   ,   0.   ,   0.   ,   0.   ,   0.   ,\n",
       "         0.   ,   0.   ,   0.   ,   0.   ,   0.   ,   0.   ,   0.   ,\n",
       "         0.   ,   0.   ,   0.   ,   0.   ,   0.   , 396.046, 399.776,\n",
       "       400.997, 400.793, 401.593, 407.02 , 408.861, 414.832, 415.787,\n",
       "       418.46 , 423.118, 428.122, 432.805, 433.561, 429.768, 432.409,\n",
       "       441.092, 441.142, 446.233, 444.67 ])"
      ]
     },
     "execution_count": 178,
     "metadata": {},
     "output_type": "execute_result"
    }
   ],
   "source": [
    "pad_distrib_mean"
   ]
  },
  {
   "cell_type": "code",
   "execution_count": 179,
   "metadata": {},
   "outputs": [
    {
     "data": {
      "text/plain": [
       "array([ 0.        ,  0.        ,  0.        ,  0.        ,  0.        ,\n",
       "        0.        ,  0.        ,  0.        ,  0.        ,  0.        ,\n",
       "        0.        ,  0.        ,  0.        ,  0.        ,  0.        ,\n",
       "        0.        ,  0.        ,  0.        ,  0.        ,  0.        ,\n",
       "        0.        ,  0.        ,  0.        ,  0.        ,  0.        ,\n",
       "        0.        ,  0.        ,  0.        ,  0.        ,  0.        ,\n",
       "        0.        ,  0.        ,  0.        ,  0.        ,  0.        ,\n",
       "        0.        ,  0.        ,  0.        ,  0.        ,  0.        ,\n",
       "       26.12531118, 24.68881982, 24.58932677, 25.38468339, 25.86625893,\n",
       "       26.75039439, 26.29569697, 26.42142646, 24.26919098, 27.3987299 ,\n",
       "       26.93637088, 26.12054969, 28.41237362, 28.3769674 , 28.23328135,\n",
       "       27.01380608, 30.39670272, 28.01638513, 28.48446438, 30.26858272])"
      ]
     },
     "execution_count": 179,
     "metadata": {},
     "output_type": "execute_result"
    }
   ],
   "source": [
    "pad_distrib_std"
   ]
  },
  {
   "cell_type": "code",
   "execution_count": 180,
   "metadata": {},
   "outputs": [
    {
     "data": {
      "text/plain": [
       "31.622776601683793"
      ]
     },
     "execution_count": 180,
     "metadata": {},
     "output_type": "execute_result"
    }
   ],
   "source": [
    "distrib_rescaled.shape[1]**(1/2)"
   ]
  },
  {
   "cell_type": "code",
   "execution_count": 181,
   "metadata": {},
   "outputs": [],
   "source": [
    "lower_bound = pad_distrib_mean - 1.960 * pad_distrib_std / (distrib_rescaled.shape[1]**(1/2))\n",
    "upper_bound = pad_distrib_mean + 1.960 * pad_distrib_std / (distrib_rescaled.shape[1]**(1/2))"
   ]
  },
  {
   "cell_type": "code",
   "execution_count": 182,
   "metadata": {},
   "outputs": [],
   "source": [
    "#lower_bound = pad_distrib_mean - 1.960 * pad_distrib_std\n",
    "#upper_bound = pad_distrib_mean + 1.960 * pad_distrib_std"
   ]
  },
  {
   "cell_type": "code",
   "execution_count": 183,
   "metadata": {},
   "outputs": [
    {
     "data": {
      "text/plain": [
       "(60,)"
      ]
     },
     "execution_count": 183,
     "metadata": {},
     "output_type": "execute_result"
    }
   ],
   "source": [
    "lower_bound.shape"
   ]
  },
  {
   "cell_type": "code",
   "execution_count": 184,
   "metadata": {},
   "outputs": [
    {
     "data": {
      "text/plain": [
       "array([  0.        ,   0.        ,   0.        ,   0.        ,\n",
       "         0.        ,   0.        ,   0.        ,   0.        ,\n",
       "         0.        ,   0.        ,   0.        ,   0.        ,\n",
       "         0.        ,   0.        ,   0.        ,   0.        ,\n",
       "         0.        ,   0.        ,   0.        ,   0.        ,\n",
       "         0.        ,   0.        ,   0.        ,   0.        ,\n",
       "         0.        ,   0.        ,   0.        ,   0.        ,\n",
       "         0.        ,   0.        ,   0.        ,   0.        ,\n",
       "         0.        ,   0.        ,   0.        ,   0.        ,\n",
       "         0.        ,   0.        ,   0.        ,   0.        ,\n",
       "       394.42673644, 398.24577109, 399.47293774, 399.21964102,\n",
       "       399.98979266, 405.36199338, 407.23117582, 413.19438302,\n",
       "       414.28277996, 416.76180913, 421.44846644, 426.50303156,\n",
       "       431.04398284, 431.80217734, 428.01808309, 430.73466695,\n",
       "       439.20799285, 439.40552646, 444.46751461, 442.79393381])"
      ]
     },
     "execution_count": 184,
     "metadata": {},
     "output_type": "execute_result"
    }
   ],
   "source": [
    "lower_bound"
   ]
  },
  {
   "cell_type": "code",
   "execution_count": 185,
   "metadata": {},
   "outputs": [
    {
     "data": {
      "text/plain": [
       "array([  0.        ,   0.        ,   0.        ,   0.        ,\n",
       "         0.        ,   0.        ,   0.        ,   0.        ,\n",
       "         0.        ,   0.        ,   0.        ,   0.        ,\n",
       "         0.        ,   0.        ,   0.        ,   0.        ,\n",
       "         0.        ,   0.        ,   0.        ,   0.        ,\n",
       "         0.        ,   0.        ,   0.        ,   0.        ,\n",
       "         0.        ,   0.        ,   0.        ,   0.        ,\n",
       "         0.        ,   0.        ,   0.        ,   0.        ,\n",
       "         0.        ,   0.        ,   0.        ,   0.        ,\n",
       "         0.        ,   0.        ,   0.        ,   0.        ,\n",
       "       397.66526356, 401.30622891, 402.52106226, 402.36635898,\n",
       "       403.19620734, 408.67800662, 410.49082418, 416.46961698,\n",
       "       417.29122004, 420.15819087, 424.78753356, 429.74096844,\n",
       "       434.56601716, 435.31982266, 431.51791691, 434.08333305,\n",
       "       442.97600715, 442.87847354, 447.99848539, 446.54606619])"
      ]
     },
     "execution_count": 185,
     "metadata": {},
     "output_type": "execute_result"
    }
   ],
   "source": [
    "upper_bound"
   ]
  },
  {
   "cell_type": "code",
   "execution_count": 186,
   "metadata": {},
   "outputs": [
    {
     "data": {
      "text/plain": [
       "<matplotlib.collections.PolyCollection at 0x107b8bd30>"
      ]
     },
     "execution_count": 186,
     "metadata": {},
     "output_type": "execute_result"
    },
    {
     "data": {
      "image/png": "[encoded data removed]",
      "text/plain": [
       "<Figure size 1152x576 with 1 Axes>"
      ]
     },
     "metadata": {},
     "output_type": "display_data"
    }
   ],
   "source": [
    "fig, ax = plt.subplots(figsize=(16,8))\n",
    "ax.plot(x, true_labels, '-')\n",
    "ax.plot(x, mean_preds_rescaled, '-', linestyle='dashed', color='tab:brown')\n",
    "ax.fill_between(x, lower_bound, upper_bound, alpha=0.2)"
   ]
  },
  {
   "cell_type": "code",
   "execution_count": null,
   "metadata": {},
   "outputs": [],
   "source": []
  }
 ],
 "metadata": {
  "kernelspec": {
   "display_name": "Python 3",
   "language": "python",
   "name": "python3"
  },
  "language_info": {
   "codemirror_mode": {
    "name": "ipython",
    "version": 3
   },
   "file_extension": ".py",
   "mimetype": "text/x-python",
   "name": "python",
   "nbconvert_exporter": "python",
   "pygments_lexer": "ipython3",
   "version": "3.6.4"
  }
 },
 "nbformat": 4,
 "nbformat_minor": 2
}
