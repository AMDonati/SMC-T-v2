{
 "cells": [
  {
   "cell_type": "code",
   "execution_count": 1,
   "metadata": {
    "collapsed": false
   },
   "outputs": [],
   "source": [
    "from src.models.SMC_Transformer.SMC_Transformer import SMC_Transformer\n",
    "from src.data_provider.datasets import Dataset, CovidDataset, StandardizedDataset\n",
    "from src.utils.utils_train import CustomSchedule\n",
    "import os\n",
    "import tensorflow as tf\n",
    "import json\n",
    "import numpy as np\n",
    "import matplotlib.pyplot as plt\n",
    "os.environ['TF_CPP_MIN_LOG_LEVEL'] = '2'"
   ]
  },
  {
   "cell_type": "markdown",
   "metadata": {},
   "source": [
    "### 1. Loading the Dataset\n",
    "Energy consumption dataset from https://archive.ics.uci.edu/ml/datasets/Appliances+energy+prediction\n",
    "* **gathers 10-min measurements of household appliances energy consumption (20 first features)**, coupled with local meteorological data (8 last features). \n",
    "* **The time-series forecasting task is to predict the first 20 features, given as input data the 28 features**. A window of observations of 12 time steps is considered to predict the next series of observations (this corresponds to a 2-hours window of observations. "
   ]
  },
  {
   "cell_type": "code",
   "execution_count": 2,
   "metadata": {
    "collapsed": false
   },
   "outputs": [
    {
     "name": "stdout",
     "output_type": "stream",
     "text": [
      "num samples in test dataset: 2959\n",
      "number of timeteps: 12\n",
      "number of input features: 28\n",
      "number of target features: 20\n"
     ]
    }
   ],
   "source": [
    "# Load energy dataset\n",
    "dataset = StandardizedDataset(data_path=\"data/energy_vm5\", BUFFER_SIZE=50, BATCH_SIZE=32,\n",
    "                                      name=\"energy\", target_features=list(range(20)), max_samples=None)\n",
    "train_data, val_data, test_data = dataset.get_datasets()\n",
    "print('num samples in test dataset: {}'.format(test_data.shape[0]))\n",
    "print('number of timeteps: {}'.format(train_data.shape[1] - 1))\n",
    "print('number of input features: {}'.format(train_data.shape[-1]))\n",
    "print('number of target features: {}'.format(len(dataset.target_features)))\n",
    "_, _, test_dataset = dataset.data_to_dataset(train_data=train_data,val_data=val_data,test_data=test_data,\n",
    "                                                                                    num_dim=4)"
   ]
  },
  {
   "cell_type": "markdown",
   "metadata": {},
   "source": [
    "### 2. Load the pretrained SMC Transformer on the energy dataset\n",
    "* SMC Transformer with 10 particles, with one layer and one head, and with d_model = 32, trained during 50 epochs."
   ]
  },
  {
   "cell_type": "code",
   "execution_count": 3,
   "metadata": {
    "collapsed": false
   },
   "outputs": [
    {
     "name": "stdout",
     "output_type": "stream",
     "text": [
      "checkpoint restored from output/exp_energy/smc_t_d32_p10/1/checkpoints/SMC_transformer_1/ckpt-50\n",
      "updating sigmas values with the latest ones...{'sigma_obs': '0.042718995', 'k': '0.4828556', 'q': '0.56588805', 'v': '0.12711526', 'z': '0.59875816'}\n"
     ]
    }
   ],
   "source": [
    "# Load Trained SMC Transformer on energy dataset: \n",
    "smc_transformer = SMC_Transformer(d_model=32,\n",
    "                                               output_size=20,\n",
    "                                               seq_len=12,\n",
    "                                               full_model=True,\n",
    "                                               dff=32,\n",
    "                                               maximum_position_encoding=50,\n",
    "                                               attn_window=None, num_layers=1, num_heads=1)\n",
    "lr = CustomSchedule(32)\n",
    "optimizer = tf.keras.optimizers.Adam(lr,\n",
    "                                                  beta_1=0.9,\n",
    "                                                  beta_2=0.98,\n",
    "                                                  epsilon=1e-9)\n",
    "ckpt = tf.train.Checkpoint(transformer=smc_transformer,\n",
    "                                   optimizer=optimizer)\n",
    "model_path = \"output/exp_energy/smc_t_d32_p10/1/\"\n",
    "smc_T_ckpt_path = os.path.join(model_path, \"checkpoints/SMC_transformer_1\")\n",
    "ckpt_manager = tf.train.CheckpointManager(ckpt, smc_T_ckpt_path, max_to_keep=50)\n",
    "# if a checkpoint exists, restore the latest checkpoint.\n",
    "def restoring_checkpoint(ckpt_manager):\n",
    "    if ckpt_manager.latest_checkpoint:\n",
    "        ckpt_restored_path = ckpt_manager.latest_checkpoint\n",
    "        ckpt_name = os.path.basename(ckpt_restored_path)\n",
    "        _, ckpt_num = ckpt_name.split('-')\n",
    "        start_epoch = int(ckpt_num)\n",
    "        ckpt.restore(ckpt_manager.latest_checkpoint)\n",
    "        print(\"checkpoint restored from {}\".format(ckpt_manager.latest_checkpoint))\n",
    "        return start_epoch\n",
    "start_epoch = restoring_checkpoint(ckpt_manager=ckpt_manager)\n",
    "\n",
    "with open(os.path.join(model_path, \"sigmas_after_training.json\")) as json_file:\n",
    "    dict_json = json.load(json_file)\n",
    "sigmas_after_training = {key: float(value) for key, value in dict_json.items()}\n",
    "print(\"updating sigmas values with the latest ones...{}\".format(dict_json))\n",
    "dict_sigmas = {key: sigmas_after_training[key] for key in ['k', 'q', 'v', 'z']}\n",
    "sigma_obs = sigmas_after_training[\"sigma_obs\"]\n",
    "smc_transformer.cell.add_SMC_parameters(dict_sigmas=dict_sigmas, sigma_obs=sigma_obs,\n",
    "                                                         num_particles=10)"
   ]
  },
  {
   "cell_type": "markdown",
   "metadata": {},
   "source": [
    "### 3. Inference task: multistep time-series forecasting outputting predictive distribution\n",
    "On the test dataset, we feed the trained SMC Transformer the first 6 timesteps of sequence of observations, and ask the model to predict the next 6 timesteps. "
   ]
  },
  {
   "cell_type": "markdown",
   "metadata": {},
   "source": [
    "![MarineGEO circle logo](SMC_Transformer_inference.png)"
   ]
  },
  {
   "cell_type": "code",
   "execution_count": 4,
   "metadata": {
    "collapsed": true,
    "id": "tQCUFY679Re-"
   },
   "outputs": [],
   "source": [
    "def inference_multistep(smc_transformer, inputs, targets, future_input_features=None, past_len=6, future_len=6):\n",
    "    '''\n",
    "    Get the multi-step output (of size future_len) of a SMC Transformer \n",
    "    given a sequence of observations of length past_len. \n",
    "    INPUTS: \n",
    "    * smc_transformer: the trained model.\n",
    "    * inputs: the input sequence of observations dim = (batch_size, past_len, 28)\n",
    "    * targets: the target sequence of observations (for resampling): dim = (batch_size, future_len, 20)\n",
    "    * future_input_features: the future sequence of INPUT FEATURES dim = (batch_size, future_len 8)\n",
    "    * past_len = 6, future_len = 6\n",
    "    OUTPUT: \n",
    "    * The predicted output particles for the future sequence of observations: \n",
    "    dim = (batch_size, num_particles=10, future_len, 20)\n",
    "    '''\n",
    "    P = smc_transformer.cell.num_particles # number of particles = 10\n",
    "    sigma_obs = tf.math.sqrt(smc_transformer.cell.Sigma_obs) # learned standard deviation of observation model.\n",
    "    smc_transformer.seq_len = past_len\n",
    "    # stop resampling for future timesteps (no access to ground-truth)\n",
    "    smc_transformer.cell.add_stop_resampling(past_len)\n",
    "    for i in range(future_len+1):\n",
    "        # Get P particles outputs of the SMC Transformer with shape (batch_size, num_particles=10, past_len=6, 20)\n",
    "        (preds, _), _, _ = smc_transformer(inputs, targets)\n",
    "        last_pred = preds[:,:,-1,:] # get the P predictions for the last timestep\n",
    "        # sample P predicted observations for the target features using the observation model\n",
    "        last_pred = last_pred + tf.random.normal(shape=last_pred.shape, stddev=sigma_obs) \n",
    "        if i == 0:\n",
    "            inputs = tf.tile(inputs, multiples=[1,P,1,1])\n",
    "            targets = tf.tile(targets, multiples=[1,P,1,1])\n",
    "        if i < future_len:\n",
    "            input_features = tf.tile(future_input_features[:,:,i,:], multiples=[1,P,1])\n",
    "            # Add input_features to current predictions\n",
    "            last_pred = tf.concat([last_pred, input_features], axis=-1)\n",
    "            last_pred = tf.expand_dims(last_pred, axis=-2)\n",
    "            # concatenate inputs and current predictions\n",
    "            inputs = tf.concat([inputs, last_pred], axis=-2)\n",
    "            targets = tf.concat([targets, tf.zeros(shape=(targets.shape[0], targets.shape[1], 1, targets.shape[-1]))], axis=-2) # dummy target (not used when resampling is stopped.)\n",
    "            smc_transformer.seq_len += 1\n",
    "    mean_preds = tf.reduce_mean(preds, axis=1)\n",
    "    # get all preds particles for future timesteps \n",
    "    preds_future = preds[:,:,past_len:,:]\n",
    "    return preds_future"
   ]
  },
  {
   "cell_type": "code",
   "execution_count": 5,
   "metadata": {
    "collapsed": true,
    "id": "--NIvsUi9vee"
   },
   "outputs": [],
   "source": [
    "def get_distrib_all_timesteps(preds, sigma_obs, P, N=100, len_future=6):\n",
    "    '''\n",
    "    From a sequence of M predicted observations, get an empirical distribution. \n",
    "    INPUTS: \n",
    "    * preds: P predicted observations = output of inference_multistep function: dim=(batch_size, P=10, future_len=6, 20)\n",
    "    * sigma_obs = learned standard deviation for observation model.\n",
    "    * P = number of particles\n",
    "    * N = Number of samples to estimate the empirical distribution.\n",
    "    OUTPUTS:\n",
    "    Sequence of empirical distribution: dim = (batch_size, N, future_len, 20)\n",
    "    '''\n",
    "    distrib_future_timesteps = []\n",
    "    for t in range(len_future):\n",
    "        mean_NP = preds[:,:,t,:]\n",
    "        emp_distrib = []\n",
    "        for i in range(N):\n",
    "            # sample a trajectory z_t^n with probability w_t^m\n",
    "            ind_p = np.random.randint(0, P) \n",
    "            sampled_mean = mean_NP[:, ind_p, :]\n",
    "            # sample an observation X_t^n from z_t^n with the observation model\n",
    "            sample = sampled_mean + tf.random.normal(shape=sampled_mean.shape, stddev=sigma_obs) # get a predicted observation $X_{t+1}^n\n",
    "            emp_distrib.append(sample)\n",
    "        # Get the Empirical Distrib \\hat{X}_{t+1}^N of shape (batch_size,N,1, num_target_features=20)\n",
    "        emp_distrib = np.stack(emp_distrib, axis=0) \n",
    "        distrib_future_timesteps.append(emp_distrib)\n",
    "    distrib_future_timesteps = np.stack(distrib_future_timesteps, axis=0) # shape (S,N_est,B,F)\n",
    "    distrib_future_timesteps = np.transpose(distrib_future_timesteps, axes=[2,1,0,3]) # Empirical Distrib for all future timesteps of shape (batch_size,N,future_len,num_target_features)\n",
    "    print('distrib future timesteps', distrib_future_timesteps.shape)\n",
    "    return distrib_future_timesteps"
   ]
  },
  {
   "cell_type": "code",
   "execution_count": 6,
   "metadata": {
    "collapsed": true,
    "id": "jjMVZyWX8t26"
   },
   "outputs": [],
   "source": [
    "def get_predictive_distribution_multistep(smc_transformer, inputs, targets, past_len=6, future_len=6, N=100):\n",
    "        inp, tar = inputs[:, :, :past_len, :], targets[:, :, :past_len, :]\n",
    "        future_input_features = inputs[:, :, past_len:, 20:] # 8 input features not predicted. \n",
    "        particles = inference_multistep(smc_transformer=smc_transformer, inputs=inp,\n",
    "                                                        targets=tar, past_len=past_len,\n",
    "                                                        future_len=future_len,\n",
    "                                                        future_input_features=future_input_features)\n",
    "        sigma_obs = tf.math.sqrt(smc_transformer.cell.Sigma_obs)\n",
    "        distrib_per_timestep = get_distrib_all_timesteps(particles, sigma_obs=sigma_obs,\n",
    "                                                             P=10,\n",
    "                                                             N=100,\n",
    "                                                             len_future=future_len)\n",
    "        distrib_per_timestep = tf.constant(distrib_per_timestep, dtype=tf.float32)\n",
    "        return distrib_per_timestep"
   ]
  },
  {
   "cell_type": "code",
   "execution_count": 78,
   "metadata": {
    "collapsed": false,
    "id": "fpBNTYLQRv-5",
    "scrolled": false
   },
   "outputs": [
    {
     "name": "stdout",
     "output_type": "stream",
     "text": [
      "distrib future timesteps (32, 100, 6, 20)\n",
      "distrib future timesteps (32, 100, 6, 20)\n",
      "distrib future timesteps (32, 100, 6, 20)\n",
      "distrib future timesteps (32, 100, 6, 20)\n",
      "distrib future timesteps (32, 100, 6, 20)\n",
      "distrib future timesteps (32, 100, 6, 20)\n",
      "distrib future timesteps (32, 100, 6, 20)\n",
      "distrib future timesteps (32, 100, 6, 20)\n",
      "distrib future timesteps (32, 100, 6, 20)\n",
      "distrib future timesteps (32, 100, 6, 20)\n",
      "distrib future timesteps (32, 100, 6, 20)\n",
      "distrib future timesteps (32, 100, 6, 20)\n",
      "distrib future timesteps (32, 100, 6, 20)\n",
      "distrib future timesteps (32, 100, 6, 20)\n",
      "distrib future timesteps (32, 100, 6, 20)\n",
      "distrib future timesteps (32, 100, 6, 20)\n",
      "distrib future timesteps (32, 100, 6, 20)\n",
      "distrib future timesteps (32, 100, 6, 20)\n",
      "distrib future timesteps (32, 100, 6, 20)\n",
      "distrib future timesteps (32, 100, 6, 20)\n",
      "distrib future timesteps (32, 100, 6, 20)\n",
      "distrib future timesteps (32, 100, 6, 20)\n",
      "distrib future timesteps (32, 100, 6, 20)\n",
      "distrib future timesteps (32, 100, 6, 20)\n",
      "distrib future timesteps (32, 100, 6, 20)\n",
      "distrib future timesteps (32, 100, 6, 20)\n",
      "distrib future timesteps (32, 100, 6, 20)\n",
      "distrib future timesteps (32, 100, 6, 20)\n",
      "distrib future timesteps (32, 100, 6, 20)\n",
      "distrib future timesteps (32, 100, 6, 20)\n",
      "distrib future timesteps (32, 100, 6, 20)\n",
      "distrib future timesteps (32, 100, 6, 20)\n",
      "distrib future timesteps (32, 100, 6, 20)\n",
      "distrib future timesteps (32, 100, 6, 20)\n",
      "distrib future timesteps (32, 100, 6, 20)\n",
      "distrib future timesteps (32, 100, 6, 20)\n",
      "distrib future timesteps (32, 100, 6, 20)\n",
      "distrib future timesteps (32, 100, 6, 20)\n",
      "distrib future timesteps (32, 100, 6, 20)\n",
      "distrib future timesteps (32, 100, 6, 20)\n",
      "distrib future timesteps (32, 100, 6, 20)\n",
      "distrib future timesteps (32, 100, 6, 20)\n",
      "distrib future timesteps (32, 100, 6, 20)\n",
      "distrib future timesteps (32, 100, 6, 20)\n",
      "distrib future timesteps (32, 100, 6, 20)\n",
      "distrib future timesteps (32, 100, 6, 20)\n",
      "distrib future timesteps (32, 100, 6, 20)\n",
      "distrib future timesteps (32, 100, 6, 20)\n",
      "distrib future timesteps (32, 100, 6, 20)\n",
      "distrib future timesteps (32, 100, 6, 20)\n",
      "distrib future timesteps (32, 100, 6, 20)\n",
      "distrib future timesteps (32, 100, 6, 20)\n",
      "distrib future timesteps (32, 100, 6, 20)\n",
      "distrib future timesteps (32, 100, 6, 20)\n",
      "distrib future timesteps (32, 100, 6, 20)\n",
      "distrib future timesteps (32, 100, 6, 20)\n",
      "distrib future timesteps (32, 100, 6, 20)\n",
      "distrib future timesteps (32, 100, 6, 20)\n",
      "distrib future timesteps (32, 100, 6, 20)\n",
      "distrib future timesteps (32, 100, 6, 20)\n",
      "distrib future timesteps (32, 100, 6, 20)\n",
      "distrib future timesteps (32, 100, 6, 20)\n",
      "distrib future timesteps (32, 100, 6, 20)\n",
      "distrib future timesteps (32, 100, 6, 20)\n",
      "distrib future timesteps (32, 100, 6, 20)\n",
      "distrib future timesteps (32, 100, 6, 20)\n",
      "distrib future timesteps (32, 100, 6, 20)\n",
      "distrib future timesteps (32, 100, 6, 20)\n",
      "distrib future timesteps (32, 100, 6, 20)\n",
      "distrib future timesteps (32, 100, 6, 20)\n",
      "distrib future timesteps (32, 100, 6, 20)\n",
      "distrib future timesteps (32, 100, 6, 20)\n",
      "distrib future timesteps (32, 100, 6, 20)\n",
      "distrib future timesteps (32, 100, 6, 20)\n",
      "distrib future timesteps (32, 100, 6, 20)\n",
      "distrib future timesteps (32, 100, 6, 20)\n",
      "distrib future timesteps (32, 100, 6, 20)\n",
      "distrib future timesteps (32, 100, 6, 20)\n",
      "distrib future timesteps (32, 100, 6, 20)\n",
      "distrib future timesteps (32, 100, 6, 20)\n",
      "distrib future timesteps (32, 100, 6, 20)\n",
      "distrib future timesteps (32, 100, 6, 20)\n",
      "distrib future timesteps (32, 100, 6, 20)\n",
      "distrib future timesteps (32, 100, 6, 20)\n",
      "distrib future timesteps (32, 100, 6, 20)\n",
      "distrib future timesteps (32, 100, 6, 20)\n",
      "distrib future timesteps (32, 100, 6, 20)\n",
      "distrib future timesteps (32, 100, 6, 20)\n",
      "distrib future timesteps (32, 100, 6, 20)\n",
      "distrib future timesteps (32, 100, 6, 20)\n",
      "distrib future timesteps (32, 100, 6, 20)\n",
      "distrib future timesteps (32, 100, 6, 20)\n"
     ]
    }
   ],
   "source": [
    "distrib_multistep, all_inputs, all_targets = [], [], []\n",
    "for (inputs, targets) in test_dataset:\n",
    "    distrib_multistep_batch = get_predictive_distribution_multistep(smc_transformer=smc_transformer, inputs=inputs, targets=targets)\n",
    "    distrib_multistep.append(distrib_multistep_batch)\n",
    "    all_inputs.append(inputs)\n",
    "    all_targets.append(targets)\n",
    "    \n",
    "distrib_multistep = tf.stack(distrib_multistep, axis=0)\n",
    "distrib_multistep = tf.reshape(distrib_multistep, shape=(-1,distrib_multistep.shape[-3], distrib_multistep.shape[-2], distrib_multistep.shape[-1]))\n",
    "all_inputs = tf.stack(all_inputs, axis=0)\n",
    "all_inputs = tf.reshape(all_inputs, shape=(-1,all_inputs.shape[-2], all_inputs.shape[-1]))\n",
    "all_targets = tf.stack(all_inputs, axis=0)\n",
    "all_targets = tf.reshape(all_inputs, shape=(-1,all_inputs.shape[-2], all_inputs.shape[-1]))"
   ]
  },
  {
   "cell_type": "code",
   "execution_count": 80,
   "metadata": {
    "collapsed": false
   },
   "outputs": [
    {
     "name": "stdout",
     "output_type": "stream",
     "text": [
      "(2944, 100, 6, 20)\n"
     ]
    }
   ],
   "source": [
    "print(distrib_multistep.shape)"
   ]
  },
  {
   "cell_type": "markdown",
   "metadata": {},
   "source": [
    "### 4. Plotting the results on same test samples"
   ]
  },
  {
   "cell_type": "code",
   "execution_count": null,
   "metadata": {
    "collapsed": true
   },
   "outputs": [],
   "source": [
    "def plot_preds_targets(inputs, targets, predictive_distribution):\n",
    "    if len(tf.shape(inputs)) == 3:\n",
    "        inputs = tf.squeeze(inputs, axis=0)\n",
    "        targets = tf.squeeze(targets, axis=0)\n",
    "    inp = inputs[:, 0].numpy()\n",
    "    sample = predictive_distribution[:, :, 0].numpy()  # (mc_samples, seq_len, 1)\n",
    "    mean_pred = np.mean(sample, axis=0)\n",
    "    x = np.linspace(1, 12, 12)\n",
    "    xx = np.linspace(6, 12, 6)\n",
    "    plt.plot(xx, mean_pred, 'red', lw=2, label='predictions for sample: {}'.format(index))\n",
    "    plt.plot(x, inp, 'cyan', lw=2, label='ground-truth for sample: {}'.format(index))\n",
    "    for i in range(sample.shape[0]):\n",
    "        plt.scatter(xx, sample[i], c='orange')\n",
    "    plt.legend(fontsize=10)\n",
    "    plt.show()"
   ]
  },
  {
   "cell_type": "code",
   "execution_count": 82,
   "metadata": {
    "collapsed": false
   },
   "outputs": [
    {
     "name": "stdout",
     "output_type": "stream",
     "text": [
      "2158\n"
     ]
    },
    {
     "data": {
      "image/png": "[encoded data removed]",
      "text/plain": [
       "<matplotlib.figure.Figure at 0x7fa3fc111908>"
      ]
     },
     "metadata": {},
     "output_type": "display_data"
    },
    {
     "name": "stdout",
     "output_type": "stream",
     "text": [
      "718\n"
     ]
    },
    {
     "data": {
      "image/png": "[encoded data removed]",
      "text/plain": [
       "<matplotlib.figure.Figure at 0x7fa3fc3167f0>"
      ]
     },
     "metadata": {},
     "output_type": "display_data"
    },
    {
     "name": "stdout",
     "output_type": "stream",
     "text": [
      "379\n"
     ]
    },
    {
     "data": {
      "image/png": "[encoded data removed]",
      "text/plain": [
       "<matplotlib.figure.Figure at 0x7fa3fc150ef0>"
      ]
     },
     "metadata": {},
     "output_type": "display_data"
    },
    {
     "name": "stdout",
     "output_type": "stream",
     "text": [
      "959\n"
     ]
    },
    {
     "data": {
      "image/png": "[encoded data removed]",
      "text/plain": [
       "<matplotlib.figure.Figure at 0x7fa3fc754390>"
      ]
     },
     "metadata": {},
     "output_type": "display_data"
    }
   ],
   "source": [
    "# select some test samples\n",
    "indexes = [2158, 718, 379,959]\n",
    "for index in indexes:\n",
    "    print(index)\n",
    "    distrib = distrib_multistep[index]\n",
    "    inputs = all_inputs[index]\n",
    "    targets = all_targets[index]\n",
    "    plot_preds_targets(inputs=inputs, targets=targets, predictive_distribution=distrib)"
   ]
  },
  {
   "cell_type": "code",
   "execution_count": null,
   "metadata": {
    "collapsed": true
   },
   "outputs": [],
   "source": []
  }
 ],
 "metadata": {
  "colab": {
   "collapsed_sections": [],
   "name": "SMC-Transformer-inference.ipynb",
   "provenance": []
  },
  "kernelspec": {
   "display_name": "Python 3",
   "language": "python",
   "name": "python3"
  },
  "language_info": {
   "codemirror_mode": {
    "name": "ipython",
    "version": 3
   },
   "file_extension": ".py",
   "mimetype": "text/x-python",
   "name": "python",
   "nbconvert_exporter": "python",
   "pygments_lexer": "ipython3",
   "version": "3.6.0"
  }
 },
 "nbformat": 4,
 "nbformat_minor": 0
}
