{
 "cells": [
  {
   "cell_type": "code",
   "execution_count": null,
   "metadata": {},
   "outputs": [],
   "source": [
    "from scipy.optimize import minimize\n",
    "import numpy as np\n",
    "import pandas as pd\n",
    "import seaborn as sns\n",
    "import matplotlib.pyplot as plt\n",
    "import matplotlib.colors as mcolors"
   ]
  },
  {
   "cell_type": "code",
   "execution_count": null,
   "metadata": {},
   "outputs": [],
   "source": [
    "data_p = 'C:\\\\Users\\\\lecorff\\\\Downloads\\\\SMCEM-Trans\\\\data\\\\'"
   ]
  },
  {
   "cell_type": "markdown",
   "metadata": {},
   "source": [
    "### Synthetic data"
   ]
  },
  {
   "cell_type": "code",
   "execution_count": null,
   "metadata": {},
   "outputs": [],
   "source": [
    "testdata = np.load(data_p + 'test_data_synthetic_d_8_10_particles_cv_0.npy')"
   ]
  },
  {
   "cell_type": "code",
   "execution_count": null,
   "metadata": {},
   "outputs": [],
   "source": [
    "predlstm_unit_32_batch_32_cv_0_drop_10 = np.load(data_p + 'predlstm_unit_32_batch_32_cv_0_drop_0.10.npy')\n",
    "predlstm_unit_32_batch_32_cv_0_drop_10_mean = np.mean(predlstm_unit_32_batch_32_cv_0_drop_10,axis=1)\n",
    "predlstm_unit_32_batch_32_cv_0_drop_20 = np.load(data_p + 'predlstm_unit_32_batch_32_cv_0_drop_0.20.npy')\n",
    "predlstm_unit_32_batch_32_cv_0_drop_20_mean = np.mean(predlstm_unit_32_batch_32_cv_0_drop_20,axis=1)\n",
    "predlstm_unit_64_batch_32_cv_0_drop_20 = np.load(data_p + 'predlstm_unit_64_batch_32_cv_0_drop_0.20.npy')\n",
    "predlstm_unit_64_batch_32_cv_0_drop_20_mean = np.mean(predlstm_unit_64_batch_32_cv_0_drop_20,axis=1)\n",
    "predlstm_unit_64_batch_32_cv_0_drop_10 = np.load(data_p + 'predlstm_unit_64_batch_32_cv_0_drop_0.10.npy')\n",
    "predlstm_unit_64_batch_32_cv_0_drop_10_mean = np.mean(predlstm_unit_64_batch_32_cv_0_drop_10,axis=1)"
   ]
  },
  {
   "cell_type": "code",
   "execution_count": null,
   "metadata": {},
   "outputs": [],
   "source": [
    "pred_SMCT_d_16_30_particles_cv_0 = np.load(data_p + 'pred_SMCT_d_16_30_particles_cv_0.npy')\n",
    "pred_SMCT_d_8_10_particles_cv_0 = np.load(data_p + 'pred_SMCT_d_8_10_particles_cv_0.npy')\n",
    "pred_SMCT_d_8_10_particles_cv_0_mixt = np.load(data_p + 'pred_SMCT_d_8_10_particles_cv_0_mixt.npy')\n",
    "pred_SMCT_d_16_30_particles_cv_0.shape"
   ]
  },
  {
   "cell_type": "code",
   "execution_count": null,
   "metadata": {},
   "outputs": [],
   "source": [
    "predlstm_unit_32_batch_32_cv_0_drop_10.shape"
   ]
  },
  {
   "cell_type": "code",
   "execution_count": null,
   "metadata": {
    "scrolled": true
   },
   "outputs": [],
   "source": [
    "true_mean = 0.9*testdata\n",
    "pred_SMCT_d_8_10_particles_cv_0_mean = np.mean(pred_SMCT_d_8_10_particles_cv_0,axis=1)\n",
    "pred_SMCT_d_16_30_particles_cv_0_mean = np.mean(pred_SMCT_d_16_30_particles_cv_0,axis=1)\n",
    "predlstm_unit_32_batch_32_cv_0_drop_10_mean = np.mean(predlstm_unit_32_batch_32_cv_0_drop_10,axis=1)\n",
    "predlstm_unit_32_batch_32_cv_0_drop_10_std = np.std(predlstm_unit_32_batch_32_cv_0_drop_10,axis=1)\n",
    "predlstm_unit_32_batch_32_cv_0_drop_20_mean = np.mean(predlstm_unit_32_batch_32_cv_0_drop_20,axis=1)\n",
    "predlstm_unit_32_batch_32_cv_0_drop_20_std = np.std(predlstm_unit_32_batch_32_cv_0_drop_20,axis=1)\n",
    "predlstm_unit_64_batch_32_cv_0_drop_20_mean = np.mean(predlstm_unit_64_batch_32_cv_0_drop_20,axis=1)\n",
    "predlstm_unit_64_batch_32_cv_0_drop_20_std = np.std(predlstm_unit_64_batch_32_cv_0_drop_20,axis=1)\n",
    "shift_x = 0.2\n",
    "Nsim = 1000\n",
    "xplot  = np.linspace(0,22,23)\n",
    "xplotT = np.linspace(0,22,23) - shift_x\n",
    "plt.figure(figsize=(15,10))\n",
    "lst_pred = np.zeros((2,4,testdata.shape[2]-1))\n",
    "lst_pred_2 = np.zeros((2,4,testdata.shape[2]-1))\n",
    "for j in range(1):\n",
    "    plt.subplot(1,1,j+1)\n",
    "    idx_test = np.random.randint(0,testdata.shape[0]-1)\n",
    "    plt.plot(true_mean[idx_test,0,0:-1,0], color = 'darkcyan',label='True mean',linewidth = 3)\n",
    "    for tsp in range(testdata.shape[2]-1):\n",
    "        lower_b = true_mean[idx_test,0,tsp,0]-1.96*np.sqrt(0.5)\n",
    "        upper_b = true_mean[idx_test,0,tsp,0]+1.96*np.sqrt(0.5)\n",
    "        Gauss = np.random.normal(0,1,Nsim)\n",
    "        Gauss_2 = np.random.normal(0,1,Nsim)\n",
    "        idx = np.sum(np.random.multinomial(1, np.ones(10)/10, Nsim)*np.arange(10),axis=1)\n",
    "        idx_2 = np.sum(np.random.multinomial(1, np.ones(30)/30, Nsim)*np.arange(30),axis=1)\n",
    "        lst_samp = []\n",
    "        lst_samp_2 = []\n",
    "        for i in range(Nsim):\n",
    "            samp = pred_SMCT_d_8_10_particles_cv_0[idx_test,idx[i],tsp+1,0] + np.sqrt(0.54)*Gauss[i]\n",
    "            samp_2 = pred_SMCT_d_16_30_particles_cv_0[idx_test,idx_2[i],tsp+1,0] + np.sqrt(0.49)*Gauss[i]\n",
    "            lst_samp = np.append(lst_samp,samp)\n",
    "            lst_samp_2 = np.append(lst_samp_2,samp_2)\n",
    "            if samp>lower_b:\n",
    "                if samp<upper_b:\n",
    "                    lst_pred[j,0,tsp] = lst_pred[j,0,tsp] + 1\n",
    "            if samp_2>lower_b:\n",
    "                if samp_2<upper_b:\n",
    "                    lst_pred_2[j,0,tsp] = lst_pred_2[j,0,tsp] + 1\n",
    "        mean_samp = np.mean(lst_samp)\n",
    "        std_samp = np.std(lst_samp)\n",
    "        yy = np.linspace(lower_b,upper_b,10)\n",
    "        zz_transf = np.linspace(mean_samp-1.96*std_samp,mean_samp+1.96*std_samp,10)\n",
    "        zz = np.linspace(predlstm_unit_32_batch_32_cv_0_drop_10_mean[idx_test,tsp+1,0]-1.96*predlstm_unit_32_batch_32_cv_0_drop_10_std[idx_test,tsp+1,0],predlstm_unit_32_batch_32_cv_0_drop_10_mean[idx_test,tsp+1,0]+1.96*predlstm_unit_32_batch_32_cv_0_drop_10_std[idx_test,tsp+1,0],10)\n",
    "        zz2 = np.linspace(predlstm_unit_32_batch_32_cv_0_drop_20_mean[idx_test,tsp+1,0]-1.96*predlstm_unit_32_batch_32_cv_0_drop_20_std[idx_test,tsp+1,0],predlstm_unit_32_batch_32_cv_0_drop_20_mean[idx_test,tsp+1,0]+1.96*predlstm_unit_32_batch_32_cv_0_drop_20_std[idx_test,tsp+1,0],10)\n",
    "        zz3 = np.linspace(predlstm_unit_64_batch_32_cv_0_drop_20_mean[idx_test,tsp+1,0]-1.96*predlstm_unit_64_batch_32_cv_0_drop_20_std[idx_test,tsp+1,0],predlstm_unit_64_batch_32_cv_0_drop_20_mean[idx_test,tsp+1,0]+1.96*predlstm_unit_64_batch_32_cv_0_drop_20_std[idx_test,tsp+1,0],10)\n",
    "        xx = tsp*np.ones(10)\n",
    "        xx_samp = tsp*np.ones(Nsim)\n",
    "        if tsp == 0:\n",
    "            plt.plot(xx,yy,color = 'darkcyan', label = 'True 95% confidence interval', linewidth = 3)\n",
    "            #plt.plot(xx_samp-shift_x,lst_samp,color = 'salmon', label = 'Samples from estimated distribution  - SMC-Transformer (d = 8, M = 10)', marker = 'o', markersize = 3, alpha = 0.8,linewidth = 0)\n",
    "            plt.plot(xx_samp-shift_x,lst_samp_2,color = 'firebrick', label = 'Samples from estimated distribution  - SMC-Transformer (d = 16, M = 30)', marker = 'o', markersize = 4, alpha = 0.8,linewidth = 0)\n",
    "            #plt.plot(xx+shift_x,zz,color = 'limegreen', label = 'Samples - LSTM (d = 32, drop = 0.1)', marker = 'o', markersize = 3, alpha = 0.8,linewidth = 0)\n",
    "            plt.plot(xx+shift_x,zz2,color = 'seagreen', label = 'Samples - LSTM (d = 32, drop = 0.2)', marker = 'o', markersize = 4, alpha = 0.8,linewidth = 0)\n",
    "            plt.plot(xx+2*shift_x,zz3,color = 'darkgreen', label = 'Samples - LSTM (d = 64, drop = 0.2)', marker = 'o', markersize = 4, alpha = 0.8,linewidth = 0)\n",
    "        else:\n",
    "            plt.plot(xx,yy,color = 'darkcyan',linewidth = 3)  \n",
    "            plt.plot(xx_samp-shift_x,lst_samp_2,color = 'firebrick', marker = 'o', markersize = 4, alpha = 0.8,linewidth = 0)\n",
    "            #plt.plot(xx_samp-shift_x,lst_samp,color = 'salmon', marker = 'o', markersize = 3, alpha = 0.8,linewidth = 0)\n",
    "            #plt.plot(xx+shift_x,zz,color = 'limegreen', marker = 'o', markersize = 2, alpha = 0.8,linewidth = 0) \n",
    "            plt.plot(xx+shift_x,zz2,color = 'seagreen', marker = 'o', markersize = 4, alpha = 0.8,linewidth = 0)\n",
    "            plt.plot(xx+2*shift_x,zz3,color = 'darkgreen', marker = 'o', markersize = 4, alpha = 0.8,linewidth = 0)\n",
    "    plt.ylabel('Signal values', fontsize=16)\n",
    "    plt.xlabel('Time steps', fontsize=16)\n",
    "    plt.grid('on')\n",
    "    plt.legend(markerscale=3, fontsize=14,frameon=False)\n",
    "lst_pred = lst_pred/Nsim"
   ]
  },
  {
   "cell_type": "code",
   "execution_count": null,
   "metadata": {},
   "outputs": [],
   "source": [
    "true_mean = 0.9*testdata\n",
    "pred_SMCT_d_8_10_particles_cv_0_mean = np.mean(pred_SMCT_d_8_10_particles_cv_0,axis=1)\n",
    "predlstm_unit_32_batch_32_cv_0_drop_10_mean = np.mean(predlstm_unit_32_batch_32_cv_0_drop_10,axis=1)\n",
    "predlstm_unit_32_batch_32_cv_0_drop_10_std = np.std(predlstm_unit_32_batch_32_cv_0_drop_10,axis=1)\n",
    "predlstm_unit_32_batch_32_cv_0_drop_20_mean = np.mean(predlstm_unit_32_batch_32_cv_0_drop_20,axis=1)\n",
    "predlstm_unit_32_batch_32_cv_0_drop_20_std = np.std(predlstm_unit_32_batch_32_cv_0_drop_20,axis=1)\n",
    "predlstm_unit_64_batch_32_cv_0_drop_20_mean = np.mean(predlstm_unit_64_batch_32_cv_0_drop_20,axis=1)\n",
    "predlstm_unit_64_batch_32_cv_0_drop_20_std = np.std(predlstm_unit_64_batch_32_cv_0_drop_20,axis=1)\n",
    "shift_x = 0.1\n",
    "Nsim = 500\n",
    "xplot  = np.linspace(0,22,23)\n",
    "xplotT = np.linspace(0,22,23) + shift_x\n",
    "plt.figure(figsize=(14,10))\n",
    "lst_pred = np.zeros((testdata.shape[0],4,testdata.shape[2]-1))\n",
    "lst_pred_2 = np.zeros((testdata.shape[0],4,testdata.shape[2]-1))\n",
    "mse_true = []\n",
    "mse_10 = []\n",
    "mse_30 = []\n",
    "mse_64_01 = []\n",
    "mse_64_02 = []\n",
    "mse_32_01 = []\n",
    "mse_32_02 = []\n",
    "for idx_test in range(testdata.shape[0]):\n",
    "    for tsp in range(testdata.shape[2]-1):\n",
    "        lower_b = true_mean[idx_test,0,tsp,0]-1.96*np.sqrt(0.5)\n",
    "        upper_b = true_mean[idx_test,0,tsp,0]+1.96*np.sqrt(0.5)\n",
    "        Gauss = np.random.normal(0,1,Nsim)\n",
    "        Gauss_2 = np.random.normal(0,1,Nsim)\n",
    "        idx_1 = np.sum(np.random.multinomial(1, np.ones(10)/10, Nsim)*np.arange(10),axis=1)\n",
    "        idx_2 = np.sum(np.random.multinomial(1, np.ones(30)/30, Nsim)*np.arange(30),axis=1)\n",
    "        lst_samp = []\n",
    "        lst_samp_2 = []\n",
    "        lst_samp_true = []\n",
    "        for i in range(Nsim):\n",
    "            samp = pred_SMCT_d_8_10_particles_cv_0[idx_test,idx[i],tsp+1,0] + np.sqrt(0.54)*Gauss[i]\n",
    "            lst_samp = np.append(lst_samp,samp)\n",
    "            samp_2 = pred_SMCT_d_16_30_particles_cv_0[idx_test,idx[i],tsp+1,0] + np.sqrt(0.50)*Gauss_2[i]\n",
    "            lst_samp_2 = np.append(lst_samp_2,samp_2)\n",
    "            samp_true = true_mean[idx_test,0,tsp,0] + np.sqrt(0.5)*Gauss[i]\n",
    "            lst_samp_true = np.append(lst_samp_true,samp_true)\n",
    "            if samp>lower_b:\n",
    "                if samp<upper_b:\n",
    "                    lst_pred[idx_test,0,tsp] = lst_pred[idx_test,0,tsp] + 1\n",
    "            if samp_2>lower_b:\n",
    "                if samp_2<upper_b:\n",
    "                    lst_pred_2[idx_test,0,tsp] = lst_pred_2[idx_test,0,tsp] + 1\n",
    "        \n",
    "        mse_true = np.append(mse_true,np.mean((lst_samp_true-true_mean[idx_test,0,tsp,0])**2))\n",
    "        mse_10 = np.append(mse_10,np.mean((lst_samp-true_mean[idx_test,0,tsp,0])**2))\n",
    "        mse_30 = np.append(mse_30,np.mean((lst_samp_2-true_mean[idx_test,0,tsp,0])**2))\n",
    "        mse_64_01 = np.append(mse_64_01,np.mean((predlstm_unit_64_batch_32_cv_0_drop_10[idx_test,:,tsp+1,0]-true_mean[idx_test,0,tsp,0])**2))\n",
    "        mse_64_02 = np.append(mse_64_02,np.mean((predlstm_unit_64_batch_32_cv_0_drop_20[idx_test,:,tsp+1,0]-true_mean[idx_test,0,tsp,0])**2))\n",
    "        mse_32_01 = np.append(mse_32_01,np.mean((predlstm_unit_32_batch_32_cv_0_drop_10[idx_test,:,tsp+1,0]-true_mean[idx_test,0,tsp,0])**2))\n",
    "        mse_32_02 = np.append(mse_32_02,np.mean((predlstm_unit_32_batch_32_cv_0_drop_20[idx_test,:,tsp+1,0]-true_mean[idx_test,0,tsp,0])**2))        \n",
    "lst_pred = lst_pred/Nsim\n",
    "lst_pred_2 = lst_pred_2/Nsim"
   ]
  },
  {
   "cell_type": "code",
   "execution_count": null,
   "metadata": {},
   "outputs": [],
   "source": [
    "print('Mean true model: %.3f  '%np.mean(mse_true) + '  Std true model: %.3f'%np.std(mse_true))\n",
    "print('Mean 10 particles: %.3f  '%np.mean(mse_10) + '  Std 10 particles: %.3f'%np.std(mse_10))\n",
    "print('Mean 30 particles: %.3f  '%np.mean(mse_30) + '  Std 30 particles: %.3f'%np.std(mse_30))\n",
    "print('Mean d = 32 drop = 0.1: %.3f  '%np.mean(mse_32_01) + '  Std 30 particles: %.3f'%np.std(mse_32_01))\n",
    "print('Mean d = 32 drop = 0.2: %.3f  '%np.mean(mse_32_02) + '  Std 30 particles: %.3f'%np.std(mse_32_02))\n",
    "print('Mean d = 64 drop = 0.1: %.3f  '%np.mean(mse_64_01) + '  Std 30 particles: %.3f'%np.std(mse_64_01))\n",
    "print('Mean d = 64 drop = 0.2: %.3f  '%np.mean(mse_64_02) + '  Std 30 particles: %.3f'%np.std(mse_64_02))"
   ]
  },
  {
   "cell_type": "code",
   "execution_count": null,
   "metadata": {},
   "outputs": [],
   "source": [
    "mean_lst_pred = np.mean(lst_pred,axis=0)\n",
    "mean_lst_pred_2 = np.mean(lst_pred_2,axis=0)\n",
    "np.reshape(lst_pred[:,0,:],100*23).shape\n",
    "data = {'SMC-Transformer (d = 8, M = 10)': np.reshape(lst_pred[:,0,:],100*23), 'SMC-Transformer (d = 16, M = 30)': np.reshape(lst_pred_2[:,0,:],100*23)}\n",
    "df = pd. DataFrame(data, columns = ['SMC-Transformer (d = 8, M = 10)','SMC-Transformer (d = 16, M = 30)'])"
   ]
  },
  {
   "cell_type": "code",
   "execution_count": null,
   "metadata": {},
   "outputs": [],
   "source": [
    "sns.boxplot(df['SMC-Transformer (d = 8, M = 10)'])"
   ]
  },
  {
   "cell_type": "code",
   "execution_count": null,
   "metadata": {},
   "outputs": [],
   "source": [
    "sns.boxplot(df['SMC-Transformer (d = 16, M = 30)'])"
   ]
  },
  {
   "cell_type": "code",
   "execution_count": null,
   "metadata": {},
   "outputs": [],
   "source": [
    "plt.figure(figsize=(14,10))\n",
    "for j in range(lst_pred.shape[0]-10):\n",
    "    if np.mean(lst_pred[j,0,:])>0.85:\n",
    "        if j ==0:\n",
    "            plt.plot(np.arange(0,23),lst_pred[j,0,:],color = 'limegreen', marker = 'o', markersize = 4, alpha = 0.8,linewidth = 0,label = 'Frequency of samples in the true confidence interval - SMC-Transformer (d = 8, M = 10)')\n",
    "            plt.plot(np.arange(0,23) + 3*shift_x,lst_pred_2[j,0,:],color = 'darkcyan', marker = 'o', markersize = 4, alpha = 0.8,linewidth = 0,label = 'Frequency of samples in the true confidence interval - SMC-Transformer (d = 16, M = 30)')\n",
    "        else:\n",
    "            plt.plot(np.arange(0,23),lst_pred[j,0,:],color = 'limegreen', marker = 'o', markersize = 4, alpha = 0.8,linewidth = 0)  \n",
    "            plt.plot(np.arange(0,23) + 3*shift_x,lst_pred_2[j,0,:],color = 'darkcyan', marker = 'o', markersize = 4, alpha = 0.8,linewidth = 0) \n",
    "plt.plot(mean_lst_pred[0,:],color = 'limegreen', alpha = 0.8,linewidth = 2,label = 'Mean over the 100 test examples - SMC-Transformer (d = 8, M = 10)') \n",
    "plt.plot(np.arange(0,23) + 3*shift_x,mean_lst_pred_2[0,:],color = 'darkcyan', alpha = 0.8,linewidth = 2,label = 'Mean over the 100 test examples - SMC-Transformer (d = 16, M = 30)') \n",
    "plt.ylim([0.85,0.98])\n",
    "plt.ylabel('Frequency of predicted samples in the true confidence intervals', fontsize=12)\n",
    "plt.xlabel('Time steps', fontsize=12)\n",
    "plt.grid('on')\n",
    "plt.legend(markerscale=2, fontsize=12)"
   ]
  },
  {
   "cell_type": "code",
   "execution_count": null,
   "metadata": {},
   "outputs": [],
   "source": [
    "from sklearn.neighbors import KernelDensity"
   ]
  },
  {
   "cell_type": "code",
   "execution_count": null,
   "metadata": {},
   "outputs": [],
   "source": [
    "from scipy.stats.kde import gaussian_kde\n",
    "from scipy.stats import norm"
   ]
  },
  {
   "cell_type": "code",
   "execution_count": null,
   "metadata": {
    "scrolled": true
   },
   "outputs": [],
   "source": [
    "plt.figure(figsize=(14,14))\n",
    "for j in range(4):\n",
    "    plt.subplot(2,2,j+1)\n",
    "    idx_test = np.random.randint(0,testdata.shape[0]-1)\n",
    "    timestep = np.random.randint(0,testdata.shape[2]-1)\n",
    "    plt.title('Test sample %d - time step %d'%(idx_test,timestep))\n",
    "    true_mean = 0.8*testdata[idx_test,0,timestep-1,0]\n",
    "    X = np.array([[-1, -1], [-2, -1], [-3, -2], [1, 1], [2, 1], [3, 2]])\n",
    "    kde_lstm_unit_32_batch_32_cv_0_drop_20 = gaussian_kde(predlstm_unit_32_batch_32_cv_0_drop_20[idx_test,:,timestep,0])\n",
    "    xx = np.linspace(true_mean-1,true_mean+1,50)\n",
    "    plt.plot(xx,norm.pdf(xx,true_mean,np.sqrt(0.5)), color = 'darkcyan',label='True probability density',linewidth = 3)\n",
    "    \n",
    "    #plt.plot(xx, kde_lstm_unit_32_batch_32_cv_0_drop_20(xx),color = 'limegreen', label = 'Samples - LSTM (d = 32, drop = 0.1)', marker = 'o', markersize = 2, alpha = 0.8,linewidth = 0)\n",
    "    \n",
    "    u = np.zeros(50)\n",
    "    for j in range(30):\n",
    "        u = u + norm.pdf(xx,pred_SMCT_d_16_30_particles_cv_0[idx_test,j,timestep,0],np.sqrt(.49))\n",
    "    u = u/30\n",
    "    plt.plot(xx,u, label='Predicted_pdf - SMC-Transformer (d = 16, M = 30)',linewidth = 4,alpha= 0.5, linestyle = \"dashed\")\n",
    "    plt.ylabel('Probability density', fontsize=12)\n",
    "    plt.grid('on')\n",
    "    u = np.zeros(50)\n",
    "    for j in range(10):\n",
    "        u = u + norm.pdf(xx,pred_SMCT_d_8_10_particles_cv_0[idx_test,j,timestep,0],np.sqrt(0.54))\n",
    "    u = u/10\n",
    "    plt.plot(xx,u, label='Predicted_pdf - SMC-Transformer (d = 8, M = 10)',linewidth = 4,alpha= 0.5, linestyle = \"dashed\")\n",
    "    plt.ylabel('Probability density', fontsize=12)\n",
    "    plt.grid('on')\n",
    "    plt.ylabel('Probability density', fontsize=12)\n",
    "    plt.grid('on')\n",
    "    plt.legend()"
   ]
  },
  {
   "cell_type": "markdown",
   "metadata": {},
   "source": [
    "### Synrhetic data from a mixture distribution"
   ]
  },
  {
   "cell_type": "code",
   "execution_count": null,
   "metadata": {},
   "outputs": [],
   "source": [
    "pred_SMCT_d_32_10_particles_cv_0_mixt = np.load(data_p + 'pred_SMCT_d_32_10_particles_cv_0_mixt.npy')\n",
    "predlstm_unit_32_batch_32_cv_0_drop_10_mixt = np.load(data_p + 'predlstm_unit_32_batch_32_cv_0_drop_0.10_mixt.npy')\n",
    "predlstm_unit_32_batch_32_cv_0_drop_20_mixt = np.load(data_p + 'predlstm_unit_32_batch_32_cv_0_drop_0.20_mixt.npy')\n",
    "predlstm_unit_64_batch_32_cv_0_drop_10_mixt = np.load(data_p + 'predlstm_unit_64_batch_32_cv_0_drop_0.10_mixt.npy')\n",
    "predlstm_unit_64_batch_32_cv_0_drop_20_mixt = np.load(data_p + 'predlstm_unit_64_batch_32_cv_0_drop_0.20_mixt.npy')"
   ]
  },
  {
   "cell_type": "code",
   "execution_count": null,
   "metadata": {
    "scrolled": true
   },
   "outputs": [],
   "source": [
    "test_data_synthetic_d_32_10_particles_cv_0_mixt = np.load(data_p + 'test_data_synthetic_unit_128_batch_32_cv_0_drop_0.20_mixt.npy')\n",
    "test_data_synthetic_d_32_10_particles_cv_0_mixt.shape"
   ]
  },
  {
   "cell_type": "code",
   "execution_count": null,
   "metadata": {},
   "outputs": [],
   "source": [
    "shift_x = 0.2\n",
    "Nsim = 500\n",
    "plt.figure(figsize=(15,10))\n",
    "lst_pred = np.zeros((2,4,testdata.shape[2]-1))\n",
    "for j in range(1):\n",
    "    plt.subplot(1,1,j+1)\n",
    "    idx_test = np.random.randint(0,testdata.shape[0]-1)\n",
    "    plt.plot(test_data_synthetic_d_32_10_particles_cv_0_mixt[idx_test,:-1,0], \n",
    "             color = 'darkcyan',label='True observations',linewidth = 3)\n",
    "    for tsp in range(testdata.shape[2]-1):\n",
    "        #lower_b = true_mean[idx_test,tsp]-1.96*np.sqrt(0.5)\n",
    "        #upper_b = true_mean[idx_test,tsp]+1.96*np.sqrt(0.5)\n",
    "        Gauss = np.random.normal(0,1,Nsim)\n",
    "        Gauss_2 = np.random.normal(0,1,Nsim)\n",
    "        idx = np.sum(np.random.multinomial(1, np.ones(10)/10, Nsim)*np.arange(10),axis=1)\n",
    "        #idx_2 = np.sum(np.random.multinomial(1, np.ones(30)/30, Nsim)*np.arange(30),axis=1)\n",
    "        lst_samp = []\n",
    "        lst_samp_true = []\n",
    "        #lst_samp_2 = []\n",
    "        #plt.plot(pred_SMCT_d_16_10_particles_cv_0_mixt[idx_test,idx[i],3::,0])\n",
    "        for i in range(Nsim):\n",
    "            samp = pred_SMCT_d_32_10_particles_cv_0_mixt[idx_test,idx[i],tsp+1,0] + np.sqrt(0.33)*Gauss[i]\n",
    "            U = np.random.uniform()\n",
    "            if U<0.7:\n",
    "                samp_true = 0.9*test_data_synthetic_d_32_10_particles_cv_0_mixt[idx_test,tsp,0] + np.sqrt(0.3)*Gauss_2[i]\n",
    "            else:\n",
    "                samp_true = 0.9*0.6*test_data_synthetic_d_32_10_particles_cv_0_mixt[idx_test,tsp,0] + np.sqrt(0.3)*Gauss_2[i]\n",
    "            lst_samp = np.append(lst_samp,samp)\n",
    "            lst_samp_true = np.append(lst_samp_true,samp_true)\n",
    "            #lst_samp_2 = np.append(lst_samp_2,samp_2)\n",
    "            #if samp>lower_b:\n",
    "            #    if samp<upper_b:\n",
    "            #        lst_pred[j,0,tsp] = lst_pred[j,0,tsp] + 1\n",
    "            #if samp_2>lower_b:\n",
    "            #    if samp_2<upper_b:\n",
    "            #        lst_pred_2[j,0,tsp] = lst_pred_2[j,0,tsp] + 1\n",
    "        mean_samp = np.mean(lst_samp)\n",
    "        std_samp = np.std(lst_samp)\n",
    "        #yy = np.linspace(lower_b,upper_b,10)\n",
    "        #zz_transf = np.linspace(mean_samp-1.96*std_samp,mean_samp+1.96*std_samp,10)\n",
    "        #zz = np.linspace(predlstm_unit_32_batch_32_cv_0_drop_10_mean[idx_test,tsp+1,0]-1.96*predlstm_unit_32_batch_32_cv_0_drop_10_std[idx_test,tsp+1,0],predlstm_unit_32_batch_32_cv_0_drop_10_mean[idx_test,tsp+1,0]+1.96*predlstm_unit_32_batch_32_cv_0_drop_10_std[idx_test,tsp+1,0],10)\n",
    "        #zz2 = np.linspace(predlstm_unit_32_batch_32_cv_0_drop_20_mean[idx_test,tsp+1,0]-1.96*predlstm_unit_32_batch_32_cv_0_drop_20_std[idx_test,tsp+1,0],predlstm_unit_32_batch_32_cv_0_drop_20_mean[idx_test,tsp+1,0]+1.96*predlstm_unit_32_batch_32_cv_0_drop_20_std[idx_test,tsp+1,0],10)\n",
    "        #zz3 = np.linspace(predlstm_unit_64_batch_32_cv_0_drop_20_mean[idx_test,tsp+1,0]-1.96*predlstm_unit_64_batch_32_cv_0_drop_20_std[idx_test,tsp+1,0],predlstm_unit_64_batch_32_cv_0_drop_20_mean[idx_test,tsp+1,0]+1.96*predlstm_unit_64_batch_32_cv_0_drop_20_std[idx_test,tsp+1,0],10)\n",
    "        xx = tsp*np.ones(10)\n",
    "        xx_samp = tsp*np.ones(Nsim)\n",
    "        if tsp == 0:\n",
    "            plt.plot(xx_samp,lst_samp_true,color = 'darkcyan', label = 'Samples from the true distribution', marker = 'o', markersize = 3, linewidth = 0)\n",
    "            plt.plot(xx_samp-shift_x,lst_samp,color = 'salmon', label = 'Samples from estimated distribution  - SMC-Transformer (d = 32, M = 10)', marker = 'o', markersize = 3, alpha = 0.8,linewidth = 0)\n",
    "            #plt.plot(xx_samp-shift_x,lst_samp,color = 'firebrick', label = 'Samples from estimated distribution  - SMC-Transformer (d = 16, M = 30)', marker = 'o', markersize = 4, alpha = 0.8,linewidth = 0)\n",
    "            plt.plot(xx_samp+shift_x,predlstm_unit_32_batch_32_cv_0_drop_10_mixt[idx_test,:,tsp,0],color = 'limegreen', label = 'Samples - LSTM (d = 32, drop = 0.1)', marker = 'o', markersize = 3, alpha = 0.8,linewidth = 0)\n",
    "            plt.plot(xx_samp+2*shift_x,predlstm_unit_64_batch_32_cv_0_drop_10_mixt[idx_test,:,tsp,0],color = 'seagreen', label = 'Samples - LSTM (d = 64, drop = 0.1)', marker = 'o', markersize = 4, alpha = 0.8,linewidth = 0)\n",
    "            plt.plot(xx_samp+3*shift_x,predlstm_unit_64_batch_32_cv_0_drop_20_mixt[idx_test,:,tsp,0],color = 'darkgreen', label = 'Samples - LSTM (d = 64, drop = 0.2)', marker = 'o', markersize = 4, alpha = 0.8,linewidth = 0)\n",
    "        else:\n",
    "            plt.plot(xx_samp,lst_samp_true,color = 'darkcyan', marker = 'o', markersize = 3, linewidth = 0)  \n",
    "            #plt.plot(xx_samp-shift_x,lst_samp,color = 'firebrick', marker = 'o', markersize = 4, alpha = 0.8,linewidth = 0)\n",
    "            plt.plot(xx_samp-shift_x,lst_samp,color = 'salmon', marker = 'o', markersize = 3, alpha = 0.8,linewidth = 0)\n",
    "            plt.plot(xx_samp+shift_x,predlstm_unit_32_batch_32_cv_0_drop_10_mixt[idx_test,:,tsp,0],color = 'limegreen', marker = 'o', markersize = 3, alpha = 0.8,linewidth = 0)\n",
    "            plt.plot(xx_samp+2*shift_x,predlstm_unit_64_batch_32_cv_0_drop_10_mixt[idx_test,:,tsp,0],color = 'seagreen', marker = 'o', markersize = 4, alpha = 0.8,linewidth = 0)\n",
    "            plt.plot(xx_samp+3*shift_x,predlstm_unit_64_batch_32_cv_0_drop_20_mixt[idx_test,:,tsp,0],color = 'darkgreen', marker = 'o', markersize = 4, alpha = 0.8,linewidth = 0)\n",
    "    plt.ylabel('Signal values', fontsize=16)\n",
    "    plt.xlabel('Time steps', fontsize=16)\n",
    "    plt.grid('on')\n",
    "    plt.legend(markerscale=3, fontsize=14,frameon=False)\n",
    "lst_pred = lst_pred/Nsim"
   ]
  },
  {
   "cell_type": "code",
   "execution_count": null,
   "metadata": {},
   "outputs": [],
   "source": [
    "true_mean = 0.9*test_data_synthetic_d_32_10_particles_cv_0_mixt\n",
    "true_mean_2 = 0.54*test_data_synthetic_d_32_10_particles_cv_0_mixt\n",
    "pred_SMCT_d_32_10_particles_cv_0_mean = np.mean(pred_SMCT_d_32_10_particles_cv_0_mixt,axis=1)\n",
    "predlstm_unit_32_batch_32_cv_0_drop_10_mean = np.mean(predlstm_unit_32_batch_32_cv_0_drop_10,axis=1)\n",
    "predlstm_unit_32_batch_32_cv_0_drop_10_std = np.std(predlstm_unit_32_batch_32_cv_0_drop_10,axis=1)\n",
    "predlstm_unit_32_batch_32_cv_0_drop_20_mean = np.mean(predlstm_unit_32_batch_32_cv_0_drop_20,axis=1)\n",
    "predlstm_unit_32_batch_32_cv_0_drop_20_std = np.std(predlstm_unit_32_batch_32_cv_0_drop_20,axis=1)\n",
    "predlstm_unit_64_batch_32_cv_0_drop_20_mean = np.mean(predlstm_unit_64_batch_32_cv_0_drop_20,axis=1)\n",
    "predlstm_unit_64_batch_32_cv_0_drop_20_std = np.std(predlstm_unit_64_batch_32_cv_0_drop_20,axis=1)\n",
    "shift_x = 0.1\n",
    "Nsim = 500\n",
    "xplot  = np.linspace(0,22,23)\n",
    "xplotT = np.linspace(0,22,23) + shift_x\n",
    "plt.figure(figsize=(14,10))\n",
    "lst_pred = np.zeros((testdata.shape[0],4,testdata.shape[2]-1))\n",
    "lst_pred_2 = np.zeros((testdata.shape[0],4,testdata.shape[2]-1))\n",
    "mse_true = []\n",
    "mse_10 = []\n",
    "mse_30 = []\n",
    "mse_64_01 = []\n",
    "mse_64_02 = []\n",
    "mse_32_01 = []\n",
    "mse_32_02 = []\n",
    "for idx_test in range(testdata.shape[0]):\n",
    "    for tsp in range(testdata.shape[2]-1):\n",
    "        #lower_b = true_mean[idx_test,0,tsp,0]-1.96*np.sqrt(0.5)\n",
    "        #upper_b = true_mean[idx_test,0,tsp,0]+1.96*np.sqrt(0.5)\n",
    "        Gauss = np.random.normal(0,1,Nsim)\n",
    "        #Gauss_2 = np.random.normal(0,1,Nsim)\n",
    "        idx_1 = np.sum(np.random.multinomial(1, np.ones(10)/10, Nsim)*np.arange(10),axis=1)\n",
    "        #idx_2 = np.sum(np.random.multinomial(1, np.ones(30)/30, Nsim)*np.arange(30),axis=1)\n",
    "        lst_samp = []\n",
    "        #lst_samp_2 = []\n",
    "        lst_samp_true = []\n",
    "        for i in range(Nsim):\n",
    "            samp = pred_SMCT_d_32_10_particles_cv_0_mixt[idx_test,idx_1[i],tsp+1,0] + np.sqrt(0.33)*Gauss[i]\n",
    "            lst_samp = np.append(lst_samp,samp)\n",
    "            #samp_2 = pred_SMCT_d_16_30_particles_cv_0[idx_test,idx[i],tsp+1,0] + np.sqrt(0.33)*Gauss_2[i]\n",
    "            #lst_samp_2 = np.append(lst_samp_2,samp_2)\n",
    "            U = np.random.uniform()\n",
    "            if U<0.7:\n",
    "                samp_true = 0.9*test_data_synthetic_d_32_10_particles_cv_0_mixt[idx_test,tsp,0] + np.sqrt(0.3)*Gauss_2[i]\n",
    "            else:\n",
    "                samp_true = 0.9*0.6*test_data_synthetic_d_32_10_particles_cv_0_mixt[idx_test,tsp,0] + np.sqrt(0.3)*Gauss_2[i]\n",
    "            lst_samp = np.append(lst_samp,samp)\n",
    "            lst_samp_true = np.append(lst_samp_true,samp_true)\n",
    "            if samp>lower_b:\n",
    "                if samp<upper_b:\n",
    "                    lst_pred[idx_test,0,tsp] = lst_pred[idx_test,0,tsp] + 1\n",
    "            #if samp_2>lower_b:\n",
    "            #    if samp_2<upper_b:\n",
    "            #        lst_pred_2[idx_test,0,tsp] = lst_pred_2[idx_test,0,tsp] + 1\n",
    "        mse_true = np.append(mse_true,0.7*np.mean((lst_samp_true-true_mean[idx_test,tsp,0])**2)\n",
    "                             + 0.3*np.mean((lst_samp_true-true_mean_2[idx_test,tsp,0])**2))\n",
    "        mse_10 = np.append(mse_10,0.7*np.mean((lst_samp-true_mean[idx_test,tsp,0])**2) + 0.3*np.mean((lst_samp-true_mean_2[idx_test,tsp,0])**2))\n",
    "        #mse_30 = np.append(mse_30,np.mean((lst_samp_2-true_mean[idx_test,0,tsp,0])**2))\n",
    "        mse_64_01 = np.append(mse_64_01,0.7*np.mean((predlstm_unit_64_batch_32_cv_0_drop_10[idx_test,:,tsp+1,0]-true_mean[idx_test,tsp,0])**2) + 0.3*np.mean((predlstm_unit_64_batch_32_cv_0_drop_10[idx_test,:,tsp+1,0]-true_mean_2[idx_test,tsp,0])**2))\n",
    "        mse_64_02 = np.append(mse_64_02,0.7*np.mean((predlstm_unit_64_batch_32_cv_0_drop_20[idx_test,:,tsp+1,0]-true_mean[idx_test,tsp,0])**2) + 0.3*np.mean((predlstm_unit_64_batch_32_cv_0_drop_20[idx_test,:,tsp+1,0]-true_mean_2[idx_test,tsp,0])**2))\n",
    "        mse_32_01 = np.append(mse_32_01,0.7*np.mean((predlstm_unit_32_batch_32_cv_0_drop_10[idx_test,:,tsp+1,0]-true_mean[idx_test,tsp,0])**2) + 0.3*np.mean((predlstm_unit_32_batch_32_cv_0_drop_10[idx_test,:,tsp+1,0]-true_mean_2[idx_test,tsp,0])**2))\n",
    "        mse_32_02 = np.append(mse_32_02,0.7*np.mean((predlstm_unit_32_batch_32_cv_0_drop_20[idx_test,:,tsp+1,0]-true_mean[idx_test,tsp,0])**2) + 0.3*np.mean((predlstm_unit_32_batch_32_cv_0_drop_20[idx_test,:,tsp+1,0]-true_mean_2[idx_test,tsp,0])**2))       \n",
    "lst_pred = lst_pred/Nsim\n",
    "lst_pred_2 = lst_pred_2/Nsim"
   ]
  },
  {
   "cell_type": "code",
   "execution_count": null,
   "metadata": {},
   "outputs": [],
   "source": [
    "print('Mean true: %.3f  '%np.mean(mse_true) + '  Std true: %.3f'%np.std(mse_true))\n",
    "print('Mean 10 particles: %.3f  '%np.mean(mse_10) + '  Std 10 particles: %.3f'%np.std(mse_10))\n",
    "#print('Mean 30 particles: %.3f'%np.mean(mse_30) + '  Std 30 particles: %.3f'%np.std(mse_30))\n",
    "print('Mean d = 32 drop = 0.1: %.3f  '%np.mean(mse_32_01) + '  Std 30 particles: %.3f'%np.std(mse_32_01))\n",
    "print('Mean d = 32 drop = 0.2: %.3f  '%np.mean(mse_32_02) + '  Std 30 particles: %.3f'%np.std(mse_32_02))\n",
    "print('Mean d = 64 drop = 0.1: %.3f  '%np.mean(mse_64_01) + '  Std 30 particles: %.3f'%np.std(mse_64_01))\n",
    "print('Mean d = 64 drop = 0.2: %.3f  '%np.mean(mse_64_02) + '  Std 30 particles: %.3f'%np.std(mse_64_02))"
   ]
  },
  {
   "cell_type": "code",
   "execution_count": null,
   "metadata": {},
   "outputs": [],
   "source": [
    "plt.figure(figsize=(14,14))\n",
    "for j in range(4):\n",
    "    plt.subplot(2,2,j+1)\n",
    "    idx_test = np.random.randint(0,testdata.shape[0]-1)\n",
    "    timestep = np.random.randint(0,testdata.shape[2]-1)\n",
    "    plt.title('Test sample %d - time step %d'%(idx_test,timestep))\n",
    "    true_mean_1 = 0.9*test_data_synthetic_d_32_10_particles_cv_0_mixt[idx_test,timestep-1,0]\n",
    "    true_mean_2 = 0.2*test_data_synthetic_d_32_10_particles_cv_0_mixt[idx_test,timestep-1,0]\n",
    "    true_mean = 0.7*true_mean_1 + 0.3*true_mean_2\n",
    "    xx = np.linspace(true_mean-1,true_mean+1,50)\n",
    "    plt.plot(xx,0.7*norm.pdf(xx,true_mean_1,np.sqrt(0.3))+0.3*norm.pdf(xx,true_mean_2,np.sqrt(0.3)), color = 'darkcyan',label='True probability density',linewidth = 3)\n",
    "    \n",
    "    #plt.plot(xx, kde_lstm_unit_32_batch_32_cv_0_drop_20(xx),color = 'limegreen', label = 'Samples - LSTM (d = 32, drop = 0.1)', marker = 'o', markersize = 2, alpha = 0.8,linewidth = 0)\n",
    "    \n",
    "    u = np.zeros(50)\n",
    "    for j in range(10):\n",
    "        u = u + norm.pdf(xx,pred_SMCT_d_32_10_particles_cv_0_mixt[idx_test,j,timestep,0],np.sqrt(.33))\n",
    "    u = u/10\n",
    "    \n",
    "    plt.plot(xx,u, label='Predicted_pdf - SMC-Transformer (d = 32, M = 10)',linewidth = 4,alpha= 0.5, linestyle = \"dashed\")\n",
    "    plt.ylabel('Probability density', fontsize=12)\n",
    "    plt.grid('on')\n",
    "    plt.legend()"
   ]
  },
  {
   "cell_type": "markdown",
   "metadata": {},
   "source": [
    "### Covid data"
   ]
  },
  {
   "cell_type": "code",
   "execution_count": null,
   "metadata": {},
   "outputs": [],
   "source": [
    "covid_data_path  = data_p + 'time_series_covid19_deaths_US.csv'\n",
    "df = pd.read_csv(covid_data_path)\n",
    "df.shape"
   ]
  },
  {
   "cell_type": "code",
   "execution_count": null,
   "metadata": {
    "scrolled": true
   },
   "outputs": [],
   "source": [
    "df = pd.read_csv(covid_data_path)\n",
    "df = df[df['5/6/20']>10]\n",
    "df = df[df['5/6/20']<1000]"
   ]
  },
  {
   "cell_type": "code",
   "execution_count": null,
   "metadata": {},
   "outputs": [],
   "source": [
    "scale_fact = df['Population']/1e2"
   ]
  },
  {
   "cell_type": "code",
   "execution_count": null,
   "metadata": {},
   "outputs": [],
   "source": [
    "Province_State = df['Province_State'].values\n",
    "Admin2 = df['Admin2'].values"
   ]
  },
  {
   "cell_type": "code",
   "execution_count": null,
   "metadata": {},
   "outputs": [],
   "source": [
    "df.drop(df.columns[[0,1,2,3,4,5,6,7,8,9,10,11]], axis=1, inplace=True)\n",
    "df.shape"
   ]
  },
  {
   "cell_type": "code",
   "execution_count": null,
   "metadata": {},
   "outputs": [],
   "source": [
    "df.values\n",
    "df_scaled = np.zeros((df.shape[0],df.shape[1]))\n",
    "for j in range(df.shape[1]):\n",
    "    df_scaled[:,j] = df.values[:,j]/scale_fact"
   ]
  },
  {
   "cell_type": "code",
   "execution_count": null,
   "metadata": {},
   "outputs": [],
   "source": [
    "df_scaled"
   ]
  },
  {
   "cell_type": "code",
   "execution_count": null,
   "metadata": {},
   "outputs": [],
   "source": [
    "df.head()"
   ]
  },
  {
   "cell_type": "code",
   "execution_count": null,
   "metadata": {},
   "outputs": [],
   "source": [
    "df.shape[0]"
   ]
  },
  {
   "cell_type": "code",
   "execution_count": null,
   "metadata": {},
   "outputs": [],
   "source": [
    "df[j][60::]"
   ]
  },
  {
   "cell_type": "code",
   "execution_count": null,
   "metadata": {},
   "outputs": [],
   "source": [
    "cov_data = np.zeros((df.shape[0],46,1))\n",
    "for j in range(df.shape[0]-1):\n",
    "    cov_data[j,:,0] = df.values[j][60::]\n",
    "covdata_data_path = data_p + 'cov_data.npy'\n",
    "np.save(covdata_data_path,cov_data)"
   ]
  },
  {
   "cell_type": "code",
   "execution_count": null,
   "metadata": {},
   "outputs": [],
   "source": [
    "covdata = np.load(data_p + 'testcov.npy')\n",
    "covpred_part = np.load(data_p + 'predcov_part.npy')\n",
    "covpred_6 = np.load(data_p + 'predcov_6.npy')\n",
    "covpred_12 = np.load(data_p + 'predcov_12.npy')\n",
    "covpred_36 = np.load(data_p + 'predcov_36.npy')\n",
    "covpred_128 = np.load(data_p + 'predcov_128.npy')\n",
    "covpredlstm_6 = np.load(data_p + 'predlstm_6.npy')\n",
    "covpredlstm_12 = np.load(data_p + 'predlstm_12.npy')\n",
    "covpredlstm_36 = np.load(data_p + 'predlstm_36.npy')\n",
    "covpredlstm_128 = np.load(data_p + 'predlstm_128.npy')"
   ]
  },
  {
   "cell_type": "code",
   "execution_count": null,
   "metadata": {},
   "outputs": [],
   "source": [
    "covpred_part.shape"
   ]
  },
  {
   "cell_type": "markdown",
   "metadata": {},
   "source": [
    "### Models without noise"
   ]
  },
  {
   "cell_type": "code",
   "execution_count": null,
   "metadata": {},
   "outputs": [],
   "source": [
    "testdata = np.load(data_p + 'test_data_synthetic_d_12_30_particles_cov_idx_0.npy')\n",
    "preddata_30 = np.load(data_p + 'pred_SMCT_d_12_30_particles_cov_idx_0_var_21.73.npy')\n",
    "testdata.shape"
   ]
  },
  {
   "cell_type": "code",
   "execution_count": null,
   "metadata": {},
   "outputs": [],
   "source": [
    "preddata_30 = np.load(data_p + 'pred_SMCT_d_12_30_particles_cov_idx_0_var_21.73.npy')"
   ]
  },
  {
   "cell_type": "code",
   "execution_count": null,
   "metadata": {},
   "outputs": [],
   "source": [
    "part_mean = np.mean(preddata_30,axis=1)\n",
    "shift_x = 0\n",
    "Nsim = 500\n",
    "xplot = np.linspace(0,22,23) + shift_x\n",
    "plt.figure(figsize=(18,18))\n",
    "for j in range(6):\n",
    "    plt.subplot(3,2,j+1)\n",
    "    idx_test = np.random.randint(0,testdata.shape[0]-1)\n",
    "    plt.plot(true_mean[idx_test,0,0:-1,0], 'ro',label='True mean',linewidth = 1)\n",
    "    plt.plot(xplot,part_mean[idx_test,1::,0], 'ko',label='Estimated mean',linewidth = 1)\n",
    "    plt.plot(xplot,preddata_30[idx_test,:,1::,0].T, 'k.',alpha = 0.5,linewidth = 1)\n",
    "    for tsp in range(testdata.shape[2]-1):\n",
    "        Gauss = np.random.normal(0,1,Nsim)\n",
    "        idx = np.sum(np.random.multinomial(1, np.ones(30)/30, Nsim)*np.arange(30),axis=1)\n",
    "        lst_samp = []\n",
    "        for i in range(Nsim):\n",
    "            samp = preddata_30[idx_test,idx[i],tsp+1,0] + np.sqrt(0.55)*Gauss[idx[i]]\n",
    "            lst_samp = np.append(lst_samp,samp)\n",
    "        mean_samp = np.mean(lst_samp)\n",
    "        std_samp = np.std(lst_samp)\n",
    "        yy = np.linspace(true_mean[idx_test,0,tsp,0]-1.96*np.sqrt(0.5),true_mean[idx_test,0,tsp,0]+1.96*np.sqrt(0.5),10)\n",
    "        zz = np.linspace(mean_samp-1.96*std_samp,mean_samp+1.96*std_samp,10)\n",
    "        xx = tsp*np.ones(10)\n",
    "        if tsp == 0:\n",
    "            plt.plot(xx,yy,'r', label = 'True 95% confidence interval')\n",
    "            plt.plot(xx+shift_x,zz,'k', label = 'Predicted 95% confidence interval')\n",
    "        else:\n",
    "            plt.plot(xx,yy,'r')  \n",
    "            plt.plot(xx+shift_x,zz,'k') \n",
    "    plt.ylabel('Signal values', fontsize=12)\n",
    "    plt.xlabel('Time steps', fontsize=12)\n",
    "    plt.grid('on')\n",
    "    plt.legend()"
   ]
  },
  {
   "cell_type": "code",
   "execution_count": null,
   "metadata": {},
   "outputs": [],
   "source": []
  },
  {
   "cell_type": "code",
   "execution_count": null,
   "metadata": {},
   "outputs": [],
   "source": []
  },
  {
   "cell_type": "code",
   "execution_count": null,
   "metadata": {
    "scrolled": false
   },
   "outputs": [],
   "source": [
    "plt.figure(figsize=(16,16))\n",
    "for j in range(6):\n",
    "    plt.subplot(3,2,j+1)\n",
    "    idx_test = np.random.randint(0,covdata.shape[0])\n",
    "    plt.plot(covdata[idx_test,0,:,0], 'r',linewidth = 2, label='True data - ' + Admin2[idx_test] + ' ; ' + Province_State[idx_test])\n",
    "    #mse = np.sum((covdata[idx_test,0,:,0]-covpred_6[idx_test,:,:,0])*(covdata[idx_test,0,:,0]-covpred_6[idx_test,:,:,0]))/covdata[idx_test,0,:,0].shape[0]\n",
    "    #plt.plot(np.floor(covpred_6[idx_test,:,:,0].T),'m.',linewidth = 1,alpha= 0.6 ,linestyle = \"dashed\", label='Transf. d = 6 - MSE = %f'%mse)\n",
    "    mse = np.sum((covdata[idx_test,0,:,0]-covpred_12[idx_test,:,:,0])*(covdata[idx_test,0,:,0]-covpred_12[idx_test,:,:,0]))/covdata[idx_test,0,:,0].shape[0]\n",
    "    plt.plot(np.floor(covpred_12[idx_test,:,:,0].T),color = 'darkcyan',marker = 'o',linewidth = 1,alpha= 0.6,linestyle = \"dashed\", label='Transf. d = 12 - MSE = %.2f'%mse)\n",
    "    mse = np.sum((covdata[idx_test,0,:,0]-covpred_36[idx_test,:,:,0])*(covdata[idx_test,0,:,0]-covpred_36[idx_test,:,:,0]))/covdata[idx_test,0,:,0].shape[0]\n",
    "    plt.plot(np.floor(covpred_36[idx_test,:,:,0].T),color = 'limegreen',marker = 'o',linewidth = 1,alpha= 0.6,linestyle = \"dashed\", label='Transf. d = 36 - MSE = %.2f'%mse) \n",
    "    #mse = np.sum((covdata[idx_test,0,:,0]-covpred_128[idx_test,:,:,0])*(covdata[idx_test,0,:,0]-covpred_128[idx_test,:,:,0]))/covdata[idx_test,0,:,0].shape[0]\n",
    "    #plt.plot(np.floor(covpred_128[idx_test,:,:,0].T),'mo',linewidth = 1,alpha= 0.6,linestyle = \"dashed\", label='Transf. d = 128 - MSE = %.2f'%mse)\n",
    "    #mse = np.sum((covdata[idx_test,0,:,0]-covpredlstm_6[idx_test,:,0])*(covdata[idx_test,0,:,0]-covpredlstm_6[idx_test,:,0]))/covdata[idx_test,0,:,0].shape[0]\n",
    "    #plt.plot(np.floor(covpredlstm_6[idx_test,:,0].T),'c',linewidth = 1,alpha= 0.6, linestyle = \"dashed\", label='LSTM d = 6 - MSE = %f'%mse)\n",
    "    #mse = np.sum((covdata[idx_test,0,:,0]-covpredlstm_12[idx_test,:,0])*(covdata[idx_test,0,:,0]-covpredlstm_12[idx_test,:,0]))/covdata[idx_test,0,:,0].shape[0]\n",
    "    #plt.plot(np.floor(covpredlstm_12[idx_test,:,0].T),'c.',linewidth = 1,alpha= 0.6, linestyle = \"dashed\", label='LSTM d = 12 - MSE = %.2f'%mse)\n",
    "    mse = np.sum((covdata[idx_test,0,:,0]-covpredlstm_36[idx_test,:,0])*(covdata[idx_test,0,:,0]-covpredlstm_36[idx_test,:,0]))/covdata[idx_test,0,:,0].shape[0]\n",
    "    plt.plot(np.floor(covpredlstm_36[idx_test,:,0].T),color = 'salmon',marker = 's',linewidth = 1,alpha= 0.6, linestyle = \"dashed\", label='LSTM d = 36 - MSE = %.2f'%mse)\n",
    "    mse = np.sum((covdata[idx_test,0,:,0]-covpredlstm_128[idx_test,:,0])*(covdata[idx_test,0,:,0]-covpredlstm_128[idx_test,:,0]))/covdata[idx_test,0,:,0].shape[0]\n",
    "    plt.plot(np.floor(covpredlstm_128[idx_test,:,0].T),color = 'firebrick',marker = 's',linewidth = 1,alpha= 0.6, linestyle = \"dashed\", label='LSTM d = 128 - MSE = %.2f'%mse)\n",
    "    plt.ylabel('Cumulative number of deaths', fontsize=12)\n",
    "    plt.xlabel('Days', fontsize=12)\n",
    "    #plt.tick_params(labelright=True)\n",
    "    plt.grid('on')\n",
    "    plt.legend()"
   ]
  },
  {
   "cell_type": "code",
   "execution_count": null,
   "metadata": {},
   "outputs": [],
   "source": [
    "\n",
    "preddata_0.shape\n"
   ]
  },
  {
   "cell_type": "code",
   "execution_count": null,
   "metadata": {},
   "outputs": [],
   "source": [
    "testdata_0 = np.load(data_p + 'test_data_synthetic_d_12_30_particles_cov_idx_0.npy')\n",
    "preddata_0 = np.load(data_p + 'pred_SMCT_d_12_30_particles_cov_idx_3_var_1.05.npy')\n",
    "idx_test = 3\n",
    "plt.figure(figsize=(16,16))\n",
    "plt.plot(testdata_0[idx_test,0,:-1,0], 'r',linewidth = 2, label='True data')\n",
    "plt.plot(np.floor(preddata_0[idx_test,:,:-1,0].T),color = 'darkcyan',marker = 'o',linewidth = 2,alpha= 0.6,linestyle = \"dashed\")\n",
    "Nsim = 500\n",
    "for tsp in np.arange(30,44):\n",
    "    Gauss = np.random.normal(0,1,Nsim)\n",
    "    idx = np.sum(np.random.multinomial(1, np.ones(30)/30, Nsim)*np.arange(30),axis=1)\n",
    "    lst_samp = []\n",
    "    for i in range(Nsim):\n",
    "        samp = preddata_0[idx_test,idx[i],tsp+1,0] + np.sqrt(1.9)*Gauss[i]\n",
    "        lst_samp = np.append(lst_samp,samp)\n",
    "    plt.plot(tsp*np.ones(Nsim),lst_samp,color = 'darkcyan',marker = 'o',alpha= 0.6)\n",
    "        \n",
    "plt.ylabel('Cumulative number of deaths', fontsize=12)\n",
    "plt.xlabel('Days', fontsize=12)\n",
    "plt.tick_params(labelright=True)\n",
    "plt.grid('on')\n",
    "plt.legend()"
   ]
  },
  {
   "cell_type": "markdown",
   "metadata": {},
   "source": [
    "### Models with noise after training"
   ]
  },
  {
   "cell_type": "code",
   "execution_count": null,
   "metadata": {},
   "outputs": [],
   "source": [
    "covpred_part[idx_test,:,:,0].shape"
   ]
  },
  {
   "cell_type": "code",
   "execution_count": null,
   "metadata": {},
   "outputs": [],
   "source": [
    "np.linspace(35,44,10)"
   ]
  },
  {
   "cell_type": "code",
   "execution_count": null,
   "metadata": {},
   "outputs": [],
   "source": [
    "plt.figure(figsize=(16,16))\n",
    "for j in range(6):\n",
    "    plt.subplot(3,2,j+1)\n",
    "    idx_test = np.random.randint(0,covdata.shape[0])\n",
    "    plt.plot(covdata[idx_test,0,:,0], 'r',linewidth = 2, label='True data - ' + Admin2[idx_test] + ' ; ' + Province_State[idx_test])\n",
    "    mse = np.sum((covdata[idx_test,0,:,0]-covpred_part[idx_test,:,:,0].mean(axis=0))*(covdata[idx_test,0,:,0]-covpred_part[idx_test,:,:,0].mean(axis=0)))/covdata[idx_test,0,:,0].shape[0]\n",
    "    plt.plot(covpred_part[idx_test,:,:,0].mean(axis=0),'m.',linewidth = 1,alpha= 0.3 ,linestyle = \"dashed\", label='Transf. d = 36 - MSE with mean particle = %.2f'%mse)\n",
    "    plt.plot(np.linspace(35,44,10),covpred_part[idx_test,:,35::,0].T,'m',linewidth = 1,alpha= 0.3 ,linestyle = \"dashed\")\n",
    "    #mse = np.sum((covdata[idx_test,0,:,0]-covpred_12[idx_test,:,:,0])*(covdata[idx_test,0,:,0]-covpred_12[idx_test,:,:,0]))/covdata[idx_test,0,:,0].shape[0]\n",
    "    #plt.plot(np.floor(covpred_12[idx_test,:,:,0].T),'m.',linewidth = 1,alpha= 0.6,linestyle = \"dashed\", label='Transf. d = 12 - MSE = %f'%mse)\n",
    "    #mse = np.sum((covdata[idx_test,0,:,0]-covpred_36[idx_test,:,:,0])*(covdata[idx_test,0,:,0]-covpred_36[idx_test,:,:,0]))/covdata[idx_test,0,:,0].shape[0]\n",
    "    #plt.plot(np.floor(covpred_36[idx_test,:,:,0].T),'m+',linewidth = 1,alpha= 0.6,linestyle = \"dashed\", label='Transf. d = 36 - MSE = %f'%mse) \n",
    "    #mse = np.sum((covdata[idx_test,0,:,0]-covpred_128[idx_test,:,:,0])*(covdata[idx_test,0,:,0]-covpred_128[idx_test,:,:,0]))/covdata[idx_test,0,:,0].shape[0]\n",
    "    #plt.plot(np.floor(covpred_128[idx_test,:,:,0].T),'mo',linewidth = 1,alpha= 0.6,linestyle = \"dashed\", label='Transf. d = 128 - MSE = %f'%mse)\n",
    "    mse = np.sum((covdata[idx_test,0,:,0]-covpredlstm_6[idx_test,:,0])*(covdata[idx_test,0,:,0]-covpredlstm_6[idx_test,:,0]))/covdata[idx_test,0,:,0].shape[0]\n",
    "    plt.plot(np.floor(covpredlstm_6[idx_test,:,0].T),'c',linewidth = 1,alpha= 0.6, linestyle = \"dashed\", label='LSTM d = 6 - MSE = %.2f'%mse)\n",
    "    mse = np.sum((covdata[idx_test,0,:,0]-covpredlstm_12[idx_test,:,0])*(covdata[idx_test,0,:,0]-covpredlstm_12[idx_test,:,0]))/covdata[idx_test,0,:,0].shape[0]\n",
    "    plt.plot(np.floor(covpredlstm_12[idx_test,:,0].T),'c.',linewidth = 1,alpha= 0.6, linestyle = \"dashed\", label='LSTM d = 12 - MSE = %.2f'%mse)\n",
    "    mse = np.sum((covdata[idx_test,0,:,0]-covpredlstm_36[idx_test,:,0])*(covdata[idx_test,0,:,0]-covpredlstm_36[idx_test,:,0]))/covdata[idx_test,0,:,0].shape[0]\n",
    "    #plt.plot(np.floor(covpredlstm_36[idx_test,:,0].T),'c+',linewidth = 1,alpha= 0.6, linestyle = \"dashed\", label='LSTM d = 36 - MSE = %f'%mse)\n",
    "    mse = np.sum((covdata[idx_test,0,:,0]-covpredlstm_128[idx_test,:,0])*(covdata[idx_test,0,:,0]-covpredlstm_128[idx_test,:,0]))/covdata[idx_test,0,:,0].shape[0]\n",
    "    plt.plot(np.floor(covpredlstm_128[idx_test,:,0].T),'co',linewidth = 1,alpha= 0.6, linestyle = \"dashed\", label='LSTM d = 128 - MSE = %.2f'%mse)\n",
    "    plt.ylabel('Cumulative number of deaths', fontsize=12)\n",
    "    plt.xlabel('Days', fontsize=12)\n",
    "    #plt.tick_params(labelright=True)\n",
    "    plt.grid('on')\n",
    "    plt.legend()"
   ]
  },
  {
   "cell_type": "code",
   "execution_count": null,
   "metadata": {},
   "outputs": [],
   "source": [
    "covpred_part[idx_test,:,:,0]"
   ]
  },
  {
   "cell_type": "code",
   "execution_count": null,
   "metadata": {},
   "outputs": [],
   "source": [
    "synthetic_data_path = data_p + 'synthetic_dataset_1_feat.npy'"
   ]
  },
  {
   "cell_type": "code",
   "execution_count": null,
   "metadata": {},
   "outputs": [],
   "source": [
    "synthdata = np.load(synthetic_data_path)"
   ]
  },
  {
   "cell_type": "code",
   "execution_count": null,
   "metadata": {},
   "outputs": [],
   "source": [
    "synthdata.shape"
   ]
  },
  {
   "cell_type": "code",
   "execution_count": null,
   "metadata": {},
   "outputs": [],
   "source": [
    "cov_data = np.zeros((3251,46,1))"
   ]
  },
  {
   "cell_type": "code",
   "execution_count": null,
   "metadata": {},
   "outputs": [],
   "source": [
    "for j in range(df.values.shape[0]-10):\n",
    "    cov_data[j,:,0] = df.values[j+10][50::]"
   ]
  },
  {
   "cell_type": "code",
   "execution_count": null,
   "metadata": {},
   "outputs": [],
   "source": [
    "cov_data.shape"
   ]
  },
  {
   "cell_type": "code",
   "execution_count": null,
   "metadata": {},
   "outputs": [],
   "source": [
    "covdata_data_path = data_p + 'cov_data.npy'\n",
    "covdata_data_path"
   ]
  },
  {
   "cell_type": "code",
   "execution_count": null,
   "metadata": {},
   "outputs": [],
   "source": [
    "np.save(covdata_data_path,cov_data)"
   ]
  },
  {
   "cell_type": "code",
   "execution_count": null,
   "metadata": {},
   "outputs": [],
   "source": [
    "covid_data_path  = data_p + 'time_series_covid19_deaths_US.csv'"
   ]
  },
  {
   "cell_type": "code",
   "execution_count": null,
   "metadata": {},
   "outputs": [],
   "source": [
    "df = pd.read_csv(covid_data_path)"
   ]
  },
  {
   "cell_type": "code",
   "execution_count": null,
   "metadata": {},
   "outputs": [],
   "source": [
    "df.sort_values(by=[df.columns[11]], inplace=True,ascending = False)"
   ]
  },
  {
   "cell_type": "code",
   "execution_count": null,
   "metadata": {},
   "outputs": [],
   "source": [
    "processed_data = df.drop(df.columns[[0,1,2,3,4,5,6,7,8,9]], axis=1, inplace=True)"
   ]
  },
  {
   "cell_type": "code",
   "execution_count": null,
   "metadata": {},
   "outputs": [],
   "source": [
    "df.drop(df.columns[[0,1]], axis=1, inplace=True)"
   ]
  },
  {
   "cell_type": "code",
   "execution_count": null,
   "metadata": {},
   "outputs": [],
   "source": [
    "df.values[j+10][50::].shape"
   ]
  },
  {
   "cell_type": "code",
   "execution_count": null,
   "metadata": {},
   "outputs": [],
   "source": [
    "for j in range(df.values.shape[0]-10):\n",
    "    plt.plot(df.values[j+10][50::])\n",
    "#plt.plot(df.values[1])\n",
    "#plt.plot(df.values[2])\n",
    "#plt.plot(df.values[3])\n",
    "#plt.plot(df.values[4])\n",
    "#plt.plot(df.values[5])"
   ]
  },
  {
   "cell_type": "code",
   "execution_count": null,
   "metadata": {},
   "outputs": [],
   "source": []
  },
  {
   "cell_type": "code",
   "execution_count": null,
   "metadata": {},
   "outputs": [],
   "source": []
  },
  {
   "cell_type": "code",
   "execution_count": null,
   "metadata": {},
   "outputs": [],
   "source": []
  },
  {
   "cell_type": "code",
   "execution_count": null,
   "metadata": {},
   "outputs": [],
   "source": []
  },
  {
   "cell_type": "code",
   "execution_count": null,
   "metadata": {},
   "outputs": [],
   "source": []
  },
  {
   "cell_type": "code",
   "execution_count": null,
   "metadata": {},
   "outputs": [],
   "source": [
    "df.head()"
   ]
  },
  {
   "cell_type": "code",
   "execution_count": null,
   "metadata": {},
   "outputs": [],
   "source": [
    "testdata.shape"
   ]
  },
  {
   "cell_type": "code",
   "execution_count": null,
   "metadata": {},
   "outputs": [],
   "source": [
    "preddata_100.shape"
   ]
  },
  {
   "cell_type": "code",
   "execution_count": null,
   "metadata": {},
   "outputs": [],
   "source": [
    "testdata[5,0,:,0]"
   ]
  },
  {
   "cell_type": "code",
   "execution_count": null,
   "metadata": {},
   "outputs": [],
   "source": [
    "testdata[13,0,:,0]"
   ]
  },
  {
   "cell_type": "code",
   "execution_count": null,
   "metadata": {},
   "outputs": [],
   "source": []
  },
  {
   "cell_type": "code",
   "execution_count": null,
   "metadata": {},
   "outputs": [],
   "source": [
    "from scipy.stats import norm"
   ]
  },
  {
   "cell_type": "code",
   "execution_count": null,
   "metadata": {},
   "outputs": [],
   "source": [
    "np.random.randint(0,150)"
   ]
  },
  {
   "cell_type": "code",
   "execution_count": null,
   "metadata": {},
   "outputs": [],
   "source": [
    "idx_test = np.random.randint(0,1499)\n",
    "timestep = np.random.randint(0,23)\n",
    "true_mean = 0.9*testdata[idx_test,0,timestep-1,0]\n",
    "xx = np.linspace(true_mean-1,true_mean+1,50)\n",
    "plt.plot(xx,norm.pdf(xx,true_mean,np.sqrt(0.5)), label='True_pdf')\n",
    "u = np.zeros(50)\n",
    "for j in range(20):\n",
    "    u = u + norm.pdf(xx,preddata[idx_test,j,timestep,0],0.58)\n",
    "u = u/20\n",
    "plt.plot(xx,u, label='Predicted_pdf - 20 particles')\n",
    "u = np.zeros(50)\n",
    "for j in range(300):\n",
    "    u = u + norm.pdf(xx,preddata_100[idx_test,j,timestep,0],0.6)\n",
    "u = u/300\n",
    "plt.plot(xx,u, label='Predicted_pdf - 100 particles')\n",
    "plt.legend()"
   ]
  },
  {
   "cell_type": "code",
   "execution_count": null,
   "metadata": {},
   "outputs": [],
   "source": [
    "train_data_synthetic_1_feat_mixt"
   ]
  },
  {
   "cell_type": "code",
   "execution_count": null,
   "metadata": {},
   "outputs": [],
   "source": [
    "preddata[0,:,0,0]"
   ]
  },
  {
   "cell_type": "code",
   "execution_count": null,
   "metadata": {},
   "outputs": [],
   "source": []
  },
  {
   "cell_type": "code",
   "execution_count": null,
   "metadata": {},
   "outputs": [],
   "source": [
    "#plt.plot(testdata[13,0,:,0])\n",
    "meantrue = []\n",
    "for j in range(23):\n",
    "    meantrue =  np.append(meantrue,0.9*testdata[15,0,j,0])\n",
    "plt.plot(np.cumsum(np.ones(23)),meantrue,'r') \n",
    "#plt.plot(preddata[13,0,:,0])\n",
    "for j in range(19):\n",
    "    #meantrue =  0.9*testdata[13,0,j,0]\n",
    "    plt.plot(np.cumsum(np.ones(24)),preddata[15,j,:,0],'b',alpha=0.6)"
   ]
  },
  {
   "cell_type": "code",
   "execution_count": null,
   "metadata": {},
   "outputs": [],
   "source": [
    "idx_test = 8\n",
    "meantrue = []\n",
    "for j in range(23):\n",
    "    meantrue =  np.append(meantrue,0.9*testdata[idx_test,0,j,0])\n",
    "plt.plot(np.cumsum(np.ones(24)),testdata[idx_test,0,:,0],'r') \n",
    "#plt.plot(preddata[13,0,:,0])\n",
    "for j in range(20):\n",
    "    #meantrue =  0.9*testdata[13,0,j,0]\n",
    "    plt.plot(np.cumsum(np.ones(24)),preddata[idx_test,j,:,0],'b',alpha=0.3)"
   ]
  },
  {
   "cell_type": "code",
   "execution_count": null,
   "metadata": {},
   "outputs": [],
   "source": [
    "idx_test = 8\n",
    "meantrue = []\n",
    "for j in range(23):\n",
    "    meantrue =  np.append(meantrue,0.9*testdata[idx_test,0,j,0])\n",
    "plt.plot(np.cumsum(np.ones(24)),testdata[idx_test,0,:,0],'r') \n",
    "#plt.plot(preddata[13,0,:,0])\n",
    "for j in range(100):\n",
    "    #meantrue =  0.9*testdata[13,0,j,0]\n",
    "    plt.plot(np.cumsum(np.ones(24)),preddata_res[idx_test,j,:,0],'b',alpha=0.3)"
   ]
  },
  {
   "cell_type": "code",
   "execution_count": null,
   "metadata": {},
   "outputs": [],
   "source": [
    "preddata_res[idx_test,:,0,0]"
   ]
  },
  {
   "cell_type": "code",
   "execution_count": null,
   "metadata": {},
   "outputs": [],
   "source": [
    "np.sqrt(0.5)"
   ]
  },
  {
   "cell_type": "code",
   "execution_count": null,
   "metadata": {},
   "outputs": [],
   "source": [
    "df = pd.read_csv('imports_prepared.csv')"
   ]
  },
  {
   "cell_type": "code",
   "execution_count": null,
   "metadata": {},
   "outputs": [],
   "source": [
    "df.head()"
   ]
  },
  {
   "cell_type": "code",
   "execution_count": null,
   "metadata": {},
   "outputs": [],
   "source": [
    "from bokeh.charts import output_file, Chord\n",
    "from bokeh.io import show\n",
    "from bokeh.sampledata.les_mis import data\n",
    " \n",
    "nodes = data['nodes']\n",
    "links = data['links']\n",
    " \n",
    "nodes_df = pd.DataFrame(nodes)\n",
    "links_df = pd.DataFrame(links)\n",
    " \n",
    "source_data = links_df.merge(nodes_df, how='left', left_on='source', right_index=True)\n",
    "source_data = source_data.merge(nodes_df, how='left', left_on='target', right_index=True)\n",
    "source_data = source_data[source_data[\"value\"] > 5]\n",
    "source_data\n",
    " \n",
    "chord_from_df = Chord(source_data, source=\"name_x\", target=\"name_y\", value=\"value\")\n",
    "output_file('chord-diagram-bokeh.html', mode=\"inline\")\n",
    "show(chord_from_df)\n"
   ]
  },
  {
   "cell_type": "code",
   "execution_count": null,
   "metadata": {},
   "outputs": [],
   "source": []
  },
  {
   "cell_type": "code",
   "execution_count": null,
   "metadata": {},
   "outputs": [],
   "source": []
  },
  {
   "cell_type": "code",
   "execution_count": null,
   "metadata": {},
   "outputs": [],
   "source": []
  },
  {
   "cell_type": "code",
   "execution_count": null,
   "metadata": {},
   "outputs": [],
   "source": []
  },
  {
   "cell_type": "code",
   "execution_count": null,
   "metadata": {},
   "outputs": [],
   "source": [
    "fun = lambda u: (np.log(u[0]) + u[0] - 709/15)**2"
   ]
  },
  {
   "cell_type": "code",
   "execution_count": null,
   "metadata": {},
   "outputs": [],
   "source": [
    "bnds = (0, None)"
   ]
  },
  {
   "cell_type": "code",
   "execution_count": null,
   "metadata": {},
   "outputs": [],
   "source": [
    "res = minimize(fun, [.1], method='BFGS')"
   ]
  },
  {
   "cell_type": "code",
   "execution_count": null,
   "metadata": {},
   "outputs": [],
   "source": [
    "res.x[0]/200"
   ]
  },
  {
   "cell_type": "code",
   "execution_count": null,
   "metadata": {},
   "outputs": [],
   "source": [
    "10**300"
   ]
  },
  {
   "cell_type": "code",
   "execution_count": null,
   "metadata": {},
   "outputs": [],
   "source": []
  },
  {
   "cell_type": "markdown",
   "metadata": {},
   "source": [
    "## Singular Value Decomposition applied to image compression"
   ]
  },
  {
   "cell_type": "code",
   "execution_count": null,
   "metadata": {
    "scrolled": false
   },
   "outputs": [],
   "source": [
    "# import packages and display image\n",
    "import numpy as np\n",
    "import matplotlib.pyplot as plt\n",
    "\n",
    "from PIL import Image\n",
    "\n",
    "polar_bears           = Image.open('C:/Users/lecorff/Documents/polar_bears.jpg')\n",
    "\n",
    "polar_bears_mat       = np.array(list(polar_bears.getdata(band=0)), float)\n",
    "polar_bears_mat.shape = (polar_bears.size[1], polar_bears.size[0])\n",
    "polar_bears_mat       = np.matrix(polar_bears_mat)\n",
    "\n",
    "plt.figure(figsize=(6,4))\n",
    "plt.imshow(polar_bears_mat, cmap='gray')\n",
    "plt.title(\"Polar bears\")"
   ]
  },
  {
   "cell_type": "code",
   "execution_count": null,
   "metadata": {},
   "outputs": [],
   "source": [
    "# Perform Singular Value Decomposition\n",
    "U, sigma, V = np.linalg.svd(polar_bears_mat)\n",
    "print('Size left singular eigenvectors  ' + str(np.shape(U)))\n",
    "print('Size right singular eigenvectors  ' + str(np.shape(V)))\n",
    "print('Size eigenvalues matrix ' + str(np.shape(sigma)))\n",
    "\n",
    "# Image reconstitution with the largest singular value\n",
    "reconstimg = np.matrix(U[:, :1]) * np.diag(sigma[:1]) * np.matrix(V[:1, :])\n",
    "plt.imshow(reconstimg, cmap='gray')\n",
    "plt.title(\"Image reconstruction with the largest singular value only\")"
   ]
  },
  {
   "cell_type": "code",
   "execution_count": null,
   "metadata": {},
   "outputs": [],
   "source": [
    "nb_singular_values = np.array([5,10,25,100])\n",
    "k = 0\n",
    "for i in nb_singular_values:\n",
    "    reconstimg = np.matrix(U[:, :i]) * np.diag(sigma[:i]) * np.matrix(V[:i, :])\n",
    "    plt.imshow(reconstimg, cmap='gray')\n",
    "    title = \"Image reconstruction with the \" + \"n = %s\" % i +\" largest singular values\"\n",
    "    plt.title(title)\n",
    "    plt.show()"
   ]
  },
  {
   "cell_type": "code",
   "execution_count": null,
   "metadata": {},
   "outputs": [],
   "source": []
  }
 ],
 "metadata": {
  "kernelspec": {
   "display_name": "Python 3",
   "language": "python",
   "name": "python3"
  },
  "language_info": {
   "codemirror_mode": {
    "name": "ipython",
    "version": 3
   },
   "file_extension": ".py",
   "mimetype": "text/x-python",
   "name": "python",
   "nbconvert_exporter": "python",
   "pygments_lexer": "ipython3",
   "version": "3.6.4"
  }
 },
 "nbformat": 4,
 "nbformat_minor": 2
}
