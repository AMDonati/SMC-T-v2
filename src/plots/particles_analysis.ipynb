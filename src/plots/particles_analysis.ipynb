{
 "cells": [
  {
   "cell_type": "code",
   "execution_count": 1,
   "metadata": {},
   "outputs": [],
   "source": [
    "import numpy as np\n",
    "import matplotlib.pyplot as plt\n",
    "import matplotlib.cbook as cbook\n",
    "from matplotlib import cm\n",
    "import os"
   ]
  },
  {
   "cell_type": "code",
   "execution_count": 2,
   "metadata": {},
   "outputs": [],
   "source": [
    "covid_preds_resampled = np.load(\"../../output/exp_covid/smc_t/smc_t_d32_p60/1/resampled_particles_preds_test.npy\")\n",
    "covid_preds_resampled_10p = np.load(\"../../output/exp_covid/smc_t/smc_t_d32_p10/1/resampled_particles_preds_test.npy\")"
   ]
  },
  {
   "cell_type": "code",
   "execution_count": 3,
   "metadata": {},
   "outputs": [
    {
     "data": {
      "text/plain": [
       "(89, 60, 60, 1)"
      ]
     },
     "execution_count": 3,
     "metadata": {},
     "output_type": "execute_result"
    }
   ],
   "source": [
    "covid_preds_resampled.shape"
   ]
  },
  {
   "cell_type": "code",
   "execution_count": null,
   "metadata": {},
   "outputs": [],
   "source": []
  },
  {
   "cell_type": "code",
   "execution_count": 4,
   "metadata": {},
   "outputs": [
    {
     "data": {
      "text/plain": [
       "(89, 60, 1)"
      ]
     },
     "execution_count": 4,
     "metadata": {},
     "output_type": "execute_result"
    }
   ],
   "source": [
    "covid_truth = np.load(\"../../data/covid/test/covid.npy\")\n",
    "covid_truth = covid_truth[:,:-1,:]\n",
    "covid_truth.shape"
   ]
  },
  {
   "cell_type": "code",
   "execution_count": 5,
   "metadata": {},
   "outputs": [],
   "source": [
    "def get_unique_arrays(array, index):\n",
    "    array = np.squeeze(array)\n",
    "    list_unique_arrays = []\n",
    "    list_indexes = []\n",
    "    list_counts = []\n",
    "    arr = array[index]\n",
    "    #arr = arr[np.newaxis,:,:,:]\n",
    "    #else:\n",
    "        #arr = array\n",
    "    num_timesteps = array.shape[2]\n",
    "    for t in range(num_timesteps):\n",
    "        unique_arr, indexes, counts = np.unique(arr[:,t], return_index=True, return_counts=True)\n",
    "        list_unique_arrays.append(unique_arr)\n",
    "        list_indexes.append(indexes)\n",
    "        list_counts.append(counts)\n",
    "    return list_unique_arrays, list_indexes, list_counts"
   ]
  },
  {
   "cell_type": "code",
   "execution_count": 17,
   "metadata": {},
   "outputs": [],
   "source": [
    "def get_mean_num_particles(array):\n",
    "    all_counts = np.zeros(shape=(array.shape[0], array.shape[2]))\n",
    "    for index in range(array.shape[0]):\n",
    "        arr,_,_ = get_unique_arrays(array, index)\n",
    "        num_unique_particles = [ar.shape[0] for ar in arr]\n",
    "        all_counts[index] = np.array(num_unique_particles)\n",
    "    return np.round(np.mean(all_counts, axis=0)), np.std(all_counts, axis=0)"
   ]
  },
  {
   "cell_type": "code",
   "execution_count": 18,
   "metadata": {},
   "outputs": [],
   "source": [
    "mean_60, std_60 = get_mean_num_particles(covid_preds_resampled)\n",
    "mean_10, std_10 = get_mean_num_particles(covid_preds_resampled_10p)\n",
    "means = [mean_60]\n",
    "stds = [std_60]"
   ]
  },
  {
   "cell_type": "code",
   "execution_count": 49,
   "metadata": {},
   "outputs": [
    {
     "data": {
      "text/plain": [
       "array([2., 2., 2., 2., 2., 3., 3., 3., 3., 3.])"
      ]
     },
     "execution_count": 49,
     "metadata": {},
     "output_type": "execute_result"
    }
   ],
   "source": [
    "mean_60[:10]"
   ]
  },
  {
   "cell_type": "code",
   "execution_count": 26,
   "metadata": {},
   "outputs": [
    {
     "data": {
      "text/plain": [
       "dtype('float64')"
      ]
     },
     "execution_count": 26,
     "metadata": {},
     "output_type": "execute_result"
    }
   ],
   "source": [
    "mean_10.dtype"
   ]
  },
  {
   "cell_type": "code",
   "execution_count": 27,
   "metadata": {},
   "outputs": [
    {
     "data": {
      "text/plain": [
       "dtype('float64')"
      ]
     },
     "execution_count": 27,
     "metadata": {},
     "output_type": "execute_result"
    }
   ],
   "source": [
    "std_10.dtype"
   ]
  },
  {
   "cell_type": "code",
   "execution_count": 33,
   "metadata": {},
   "outputs": [],
   "source": [
    "reverse_10 = np.array(list(reversed(mean_10)))"
   ]
  },
  {
   "cell_type": "code",
   "execution_count": 34,
   "metadata": {},
   "outputs": [
    {
     "data": {
      "text/plain": [
       "dtype('float64')"
      ]
     },
     "execution_count": 34,
     "metadata": {},
     "output_type": "execute_result"
    }
   ],
   "source": [
    "reverse_10.dtype"
   ]
  },
  {
   "cell_type": "code",
   "execution_count": 35,
   "metadata": {},
   "outputs": [],
   "source": [
    "low_b = reverse_10 - 1.87 * np.array(list(reversed(std_10)))"
   ]
  },
  {
   "cell_type": "code",
   "execution_count": 24,
   "metadata": {},
   "outputs": [
    {
     "ename": "TypeError",
     "evalue": "can't multiply sequence by non-int of type 'float'",
     "output_type": "error",
     "traceback": [
      "\u001b[0;31m---------------------------------------------------------------------------\u001b[0m",
      "\u001b[0;31mTypeError\u001b[0m                                 Traceback (most recent call last)",
      "\u001b[0;32m<ipython-input-24-633b35c1499d>\u001b[0m in \u001b[0;36m<module>\u001b[0;34m()\u001b[0m\n\u001b[0;32m----> 1\u001b[0;31m \u001b[0mlow_b\u001b[0m \u001b[0;34m=\u001b[0m \u001b[0;34m[\u001b[0m\u001b[0mfloat\u001b[0m\u001b[0;34m(\u001b[0m\u001b[0mm\u001b[0m\u001b[0;34m)\u001b[0m \u001b[0;32mfor\u001b[0m \u001b[0mm\u001b[0m \u001b[0;32min\u001b[0m \u001b[0mlist\u001b[0m\u001b[0;34m(\u001b[0m\u001b[0mreversed\u001b[0m\u001b[0;34m(\u001b[0m\u001b[0mmean_10\u001b[0m\u001b[0;34m)\u001b[0m\u001b[0;34m)\u001b[0m\u001b[0;34m]\u001b[0m\u001b[0;34m-\u001b[0m\u001b[0;36m1.87\u001b[0m\u001b[0;34m*\u001b[0m\u001b[0mlist\u001b[0m\u001b[0;34m(\u001b[0m\u001b[0mreversed\u001b[0m\u001b[0;34m(\u001b[0m\u001b[0mstd_10\u001b[0m\u001b[0;34m)\u001b[0m\u001b[0;34m)\u001b[0m\u001b[0;34m\u001b[0m\u001b[0m\n\u001b[0m",
      "\u001b[0;31mTypeError\u001b[0m: can't multiply sequence by non-int of type 'float'"
     ]
    }
   ],
   "source": [
    "low_b = [float(m) for m in list(reversed(mean_10))]-1.87*list(reversed(std_10))"
   ]
  },
  {
   "cell_type": "code",
   "execution_count": 52,
   "metadata": {},
   "outputs": [
    {
     "data": {
      "text/plain": [
       "array([39., 28., 23., 19., 16., 14., 13., 12., 11., 10.])"
      ]
     },
     "execution_count": 52,
     "metadata": {},
     "output_type": "execute_result"
    }
   ],
   "source": [
    "reversed_mean = np.array(list(reversed(mean_60)))\n",
    "reversed_mean[:10]"
   ]
  },
  {
   "cell_type": "code",
   "execution_count": 57,
   "metadata": {},
   "outputs": [],
   "source": [
    "def plot_statistics(mean, std, color='blue'):\n",
    "    fig, ax = plt.subplots(figsize=(7, 5))\n",
    "    x = np.linspace(-1,-mean.shape[0],mean.shape[0])\n",
    "    #x = np.linspace(1,mean.shape[0],mean.shape[0])\n",
    "    ax.set_xlim(-1, -60)\n",
    "    reversed_mean = np.array(list(reversed(mean)))\n",
    "    reversed_std = np.array(list(reversed(std)))\n",
    "    low_b = reversed_mean-1.87*reversed_std\n",
    "    upper_b = reversed_mean+1.87*reversed_std\n",
    "    ax.plot(x, reversed_mean, color=color, alpha=0.8)\n",
    "    ax.fill_between(x, low_b, upper_b, alpha=0.3, facecolor=color, edgecolor=color)\n",
    "    ax.hlines(30, -1, -60, colors=color, linestyles='dashed', label='half line')\n",
    "    #ax.hlines(30, 1, 60, colors=color, linestyles='dashed', label='half line')\n",
    "    ax.hlines(10, -1, -60, colors=color, linestyles='dotted', label='1/6 line')\n",
    "    #ax.hlines(10, 1, 60, colors=color, linestyles='dotted', label='1/6 line')\n",
    "    ax.legend(fontsize=14, loc='upper left')\n",
    "    #ax.yaxis.tick_right()\n",
    "    ax.yaxis.set_ticks_position('both')\n",
    "    ax.set_xlabel(\"timesteps\", size=14)\n",
    "    ax.set_ylabel(\"unique particles per timestep\", size=14)\n",
    "    ax.tick_params(axis='x', labelsize=14)\n",
    "    ax.tick_params(axis='y', labelsize=14, labelright=True)\n",
    "    ax.grid('on', alpha=0.5)\n",
    "    fig.tight_layout()\n",
    "    plt.savefig(os.path.join(\"../../output/plots\", \"particles_analysis_60p_covid.pdf\"), bbox_inches=\"tight\")"
   ]
  },
  {
   "cell_type": "code",
   "execution_count": 58,
   "metadata": {},
   "outputs": [
    {
     "data": {
      "image/png": "[encoded data removed]",
      "text/plain": [
       "<Figure size 504x360 with 1 Axes>"
      ]
     },
     "metadata": {},
     "output_type": "display_data"
    }
   ],
   "source": [
    "plot_statistics(mean_60, std_60)"
   ]
  },
  {
   "cell_type": "code",
   "execution_count": null,
   "metadata": {},
   "outputs": [],
   "source": [
    "def plot_resampled_particles(array, all_counts, truth=None, factor=1.5):\n",
    "    #index = np.random.randint(0,array.shape[0])\n",
    "    index = 28\n",
    "    unique_arr, indexes, counts = get_unique_arrays(array, index)\n",
    "    num_unique_particles = [arr.shape[0] for arr in unique_arr]\n",
    "    evenly_spaced_interval = np.linspace(0, 1, unique_arr[-1].shape[0])\n",
    "    colors = [cm.rainbow(x) for x in evenly_spaced_interval]\n",
    "    fig, ax = plt.subplots(figsize=(12, 7))\n",
    "    x = np.linspace(1,len(unique_arr),len(unique_arr))\n",
    "    ax.tick_params(axis='y', labelcolor='slateblue')\n",
    "    ax.set_ylabel(\"scatter of particles values\", color='slateblue', fontsize=14)\n",
    "    ax2 = ax.twinx() \n",
    "    ax2.set_ylabel('number of unique particles', color='grey', fontsize=14)\n",
    "    for t in range(len(unique_arr)):\n",
    "        num_p = unique_arr[t].shape[0]\n",
    "        for idx, col in enumerate(colors[:num_p]):\n",
    "            ax.scatter(t+1,unique_arr[t][idx], c=col, s=(counts[t][idx])*factor, alpha=0.5)\n",
    "    #ax2.scatter(x, num_unique_particles, color='grey', alpha=0.7, marker='_', linewidth=4)\n",
    "    #ax2.plot(x, num_unique_particles, color='grey', alpha=0.7)\n",
    "    if truth is not None:\n",
    "        truth = np.squeeze(truth[index])\n",
    "        ax.scatter(x, truth, color='black', marker='x', linewidth=3)\n",
    "    ax2.bar(x, num_unique_particles, color='grey', alpha=0.2, label='number of unique particles for idx test {}'.format(index))\n",
    "    ax2.plot(x, all_counts, color='dimgrey', marker='o', linestyle='dotted', label='mean of number of unique particles over test set', alpha=0.8)\n",
    "    ax2.tick_params(axis='y', labelcolor='dimgrey')\n",
    "    ax2.legend(fontsize=13)\n",
    "    ax.grid('on', alpha=0.5)\n",
    "    fig.tight_layout()\n",
    "    print(\"idx test\", index)\n",
    "    #plt.show()\n",
    "    fig.savefig(os.path.join(\"../../output/plots\", \"particles_covid_idx28.png\"), bbox_inches=\"tight\")"
   ]
  },
  {
   "cell_type": "code",
   "execution_count": null,
   "metadata": {},
   "outputs": [],
   "source": [
    "def plot_resampled_particles_multiple(array, truth, factor=1.5):\n",
    "    fig, axes = plt.subplots(2,2,figsize=(30, 15))\n",
    "    evenly_spaced_interval = np.linspace(0, 1, array.shape[2])\n",
    "    colors = [cm.rainbow(x) for x in evenly_spaced_interval]\n",
    "    x = np.linspace(1,array.shape[2],array.shape[2])\n",
    "    for i in range(2):\n",
    "        for j in range(2):\n",
    "            ax = axes[i][j]\n",
    "            #index = np.random.randint(0,array.shape[0])\n",
    "            index = 27\n",
    "            truth_i = np.squeeze(truth[index])\n",
    "            unique_arr, indexes, counts = get_unique_arrays(array, index)\n",
    "            num_unique_particles = [arr.shape[0] for arr in unique_arr]\n",
    "            #evenly_spaced_interval = np.linspace(0, 1, unique_arr[-1].shape[0])\n",
    "            #colors = [cm.rainbow(x) for x in evenly_spaced_interval]\n",
    "            #x = np.linspace(1,len(unique_arr),len(unique_arr))\n",
    "            ax.tick_params(axis='y', labelcolor='slateblue')\n",
    "            ax.set_ylabel(\"scatter of particles values\", color='slateblue', size=14)\n",
    "            ax2 = ax.twinx() \n",
    "            ax2.set_ylabel('number of unique particles', color='grey')\n",
    "            for t in range(len(unique_arr)):\n",
    "                num_p = unique_arr[t].shape[0]\n",
    "                for index, col in enumerate(colors[:num_p]):\n",
    "                    ax.scatter(t+1,unique_arr[t][index], c=col, s=(counts[t][index])*factor, alpha=0.5)\n",
    "            #ax2.scatter(x, num_unique_particles, color='grey', alpha=0.7, marker='_', linewidth=4)\n",
    "            #ax2.plot(x, num_unique_particles, color='grey', alpha=0.7)\n",
    "            ax.scatter(x, truth_i, color='black', marker='x', linewidth=3)\n",
    "            ax2.bar(x, num_unique_particles, color='grey', alpha=0.1)\n",
    "            ax2.tick_params(axis='y', labelcolor='grey')\n",
    "    fig.tight_layout()"
   ]
  },
  {
   "cell_type": "code",
   "execution_count": null,
   "metadata": {},
   "outputs": [],
   "source": [
    "plot_resampled_particles(covid_preds_resampled, all_counts, covid_truth, factor=6) #27, 28 37, 49, 87, 80, 53 is a good index."
   ]
  },
  {
   "cell_type": "code",
   "execution_count": null,
   "metadata": {},
   "outputs": [],
   "source": [
    "plot_resampled_particles(covid_preds_resampled, covid_truth)"
   ]
  },
  {
   "cell_type": "code",
   "execution_count": null,
   "metadata": {},
   "outputs": [],
   "source": [
    "plot_resampled_particles(covid_preds_resampled, covid_truth)"
   ]
  },
  {
   "cell_type": "code",
   "execution_count": null,
   "metadata": {
    "scrolled": true
   },
   "outputs": [],
   "source": [
    "#plot_resampled_particles_multiple(covid_preds_resampled, covid_truth)"
   ]
  },
  {
   "cell_type": "code",
   "execution_count": null,
   "metadata": {},
   "outputs": [],
   "source": [
    "#plot_resampled_particles(synthetic_1_preds_resampled, synthetic_truth, factor=3.5)"
   ]
  },
  {
   "cell_type": "code",
   "execution_count": null,
   "metadata": {},
   "outputs": [],
   "source": []
  }
 ],
 "metadata": {
  "kernelspec": {
   "display_name": "Python 3",
   "language": "python",
   "name": "python3"
  },
  "language_info": {
   "codemirror_mode": {
    "name": "ipython",
    "version": 3
   },
   "file_extension": ".py",
   "mimetype": "text/x-python",
   "name": "python",
   "nbconvert_exporter": "python",
   "pygments_lexer": "ipython3",
   "version": "3.6.4"
  }
 },
 "nbformat": 4,
 "nbformat_minor": 2
}
